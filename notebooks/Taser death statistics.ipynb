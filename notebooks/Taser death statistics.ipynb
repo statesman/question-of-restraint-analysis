{
 "cells": [
  {
   "cell_type": "markdown",
   "metadata": {},
   "source": [
    "# Taser death statistics\n",
    "Taser-related analysis based on the restraint-custody-death data project. Relates to a couple of stories:\n",
    "- [Police withheld records of their son’s death. Now they know why.](http://www.mystatesman.com/news/texas-police-withheld-records-their-son-death-now-they-know-why/MHJC1hWAbPhcN6gOtqOkyM/)\n",
    "- [‘48 marks on his back’ — How Tasers figure into police custodial deaths](http://www.mystatesman.com/news/marks-his-back-how-tasers-figure-into-deaths-police-custody/fVR3r93ypApkIi7dOtH6hP/)\n",
    "- [3-minute Taser jolt, quick settlement: Was justice done in Burnet death?](http://www.mystatesman.com/news/crime--law/minute-taser-jolt-quick-settlement-was-justice-served-burnet-man-death/5aSntE4PMC8ZvWqmuNcF1J/)\n",
    "- [Uncommon but ‘horrific’: When Tasers set their targets on fire\n",
    "](http://www.mystatesman.com/news/crime--law/uncommon-but-horrific-when-tasers-set-their-targets-fire/KxGJuOzq0luN3J6Wdfjy8L/)\n",
    "\n",
    "## Findings\n",
    "- [Number of taser deaths](#Number-of-taser-deaths)\n",
    "- [Cases where shock is cause of death](#Number-of-cases-shock-is-cause-of-death)\n",
    "- [Looking at times tased](#Times-tased)\n",
    "- [Tased with toxicity](#Tased-with-toxicity)\n",
    "- [Data integrity checks](#Data-integrity-checks)"
   ]
  },
  {
   "cell_type": "code",
   "execution_count": 1,
   "metadata": {},
   "outputs": [],
   "source": [
    "import agate\n",
    "import re\n",
    "from IPython.display import display\n",
    "\n",
    "import warnings\n",
    "warnings.filterwarnings('ignore')"
   ]
  },
  {
   "cell_type": "markdown",
   "metadata": {},
   "source": [
    "### Getting and setting up data\n",
    "\n",
    "Starts with the `deaths_latest.csv` file that is created when the [File processing](./) notebook is run. "
   ]
  },
  {
   "cell_type": "code",
   "execution_count": 2,
   "metadata": {},
   "outputs": [
    {
     "name": "stdout",
     "output_type": "stream",
     "text": [
      "| column               | data_type |\n",
      "| -------------------- | --------- |\n",
      "| id                   | Number    |\n",
      "| ag_report_url        | Text      |\n",
      "| first_name           | Text      |\n",
      "| middle_name          | Text      |\n",
      "| last_name            | Text      |\n",
      "| suffix               | Text      |\n",
      "| slug                 | Text      |\n",
      "| race                 | Text      |\n",
      "| gender               | Text      |\n",
      "| date_of_birth        | Date      |\n",
      "| date_of_death        | Date      |\n",
      "| age                  | Number    |\n",
      "| agency               | Number    |\n",
      "| restrained           | Boolean   |\n",
      "| tazed                | Boolean   |\n",
      "| times_tazed          | Number    |\n",
      "| pepper_sprayed       | Boolean   |\n",
      "| official_discipline  | Text      |\n",
      "| grand_jury_result    | Text      |\n",
      "| mental_health_issues | Boolean   |\n",
      "| manner_of_death      | Text      |\n",
      "| drug_intoxication    | Boolean   |\n",
      "| cause_of_death       | Text      |\n",
      "| tracked_cause        | Text      |\n",
      "| offense              | Text      |\n",
      "| investigation        | Text      |\n",
      "| notes                | Text      |\n",
      "| ag_summary           | Text      |\n",
      "| reporter_assigned    | Text      |\n",
      "| record_status        | Text      |\n",
      "| case_study           | Text      |\n",
      "| story_summary        | Text      |\n",
      "| photo                | Text      |\n",
      "| cropping             | Number    |\n",
      "| race_name            | Text      |\n",
      "| manner_name          | Text      |\n",
      "| grand_jury_name      | Text      |\n",
      "| discipline_name      | Text      |\n",
      "\n"
     ]
    }
   ],
   "source": [
    "# sets data types on fields agate got wrong\n",
    "specified_data_types = {\n",
    "    'tracked_cause': agate.Text(),\n",
    "    'offense': agate.Text(),\n",
    "    'case_study': agate.Text(),\n",
    "    'official_discipline': agate.Text()\n",
    "}\n",
    "\n",
    "# this pulls the deaths file that is exported in the File processing notebook\n",
    "deaths = agate.Table.from_csv('../exports/deaths_latest.csv', column_types=specified_data_types)\n",
    "\n",
    "print(deaths)"
   ]
  },
  {
   "cell_type": "markdown",
   "metadata": {},
   "source": [
    "## Taser deaths\n",
    "\n",
    "Numbers and graphic data needed releted to Taser use in the restraint custody deaths data.\n",
    "\n",
    "Style note: The field in the database is `tazed` and `times_tazed` which is wrong in several ways. We would use \"tased\" in past tense, but Taser is a brand name, so it is best avoided in favor of \"shock weapon\" or \"shocked\".\n",
    "\n",
    "\n",
    "### Total number deaths in our data\n"
   ]
  },
  {
   "cell_type": "code",
   "execution_count": 3,
   "metadata": {},
   "outputs": [
    {
     "name": "stdout",
     "output_type": "stream",
     "text": [
      "Total deaths: 289\n"
     ]
    }
   ],
   "source": [
    "deaths_total_count = len(deaths)\n",
    "print('Total deaths: {}'.format(deaths_total_count))"
   ]
  },
  {
   "cell_type": "markdown",
   "metadata": {},
   "source": [
    "### Number of taser deaths\n",
    "\n",
    "Rows where `tazed` has been marked \"Yes\"."
   ]
  },
  {
   "cell_type": "code",
   "execution_count": 4,
   "metadata": {},
   "outputs": [
    {
     "name": "stdout",
     "output_type": "stream",
     "text": [
      "Number of deaths where tased: 87\n",
      "Percentage of deaths where deceased was tased: 30.1%\n"
     ]
    }
   ],
   "source": [
    "# count the number or records with tazed\n",
    "deaths_tased_count = deaths.aggregate(agate.Count('tazed', True))\n",
    "print('Number of deaths where tased: {}'.format(deaths_tased_count))\n",
    "\n",
    "# tazed / total\n",
    "print('Percentage of deaths where deceased was tased: {:.1%}'.format(\n",
    "        deaths_tased_count / deaths_total_count\n",
    "    ))"
   ]
  },
  {
   "cell_type": "markdown",
   "metadata": {},
   "source": [
    "## Electric shock deaths\n",
    "One way we wanted to cut the data was to find the number of people where a taser was used, and then one of the official causes of death was listed as electric shock.\n",
    "\n",
    "In the database, the `tracked_cause` was saved as a foreign key, so the Deaths table holds only the ID.\n",
    "\n",
    "`Electric shock` has an ID of 36.\n",
    "\n",
    "The method to find this stat:\n",
    "- pivotby those tazed, then tracked_cause\n",
    "- aggregate count those rows, which gives us # of matching cases\n",
    "- filter that table by '36' in tracked cause, which is electric shock\n",
    "- Also track by tazed = true, in case there is another type of electrocution"
   ]
  },
  {
   "cell_type": "code",
   "execution_count": 5,
   "metadata": {},
   "outputs": [
    {
     "name": "stdout",
     "output_type": "stream",
     "text": [
      "| tazed | tracked_cause | Count |\n",
      "| ----- | ------------- | ----- |\n",
      "| False |               |   139 |\n",
      "| False | 1             |    29 |\n",
      "| False | 2             |    27 |\n",
      "| False | 1,2           |     7 |\n",
      "|  True |               |    56 |\n",
      "|  True | 2             |    11 |\n",
      "|  True | 1             |     7 |\n",
      "|  True | 1,2           |     5 |\n",
      "|  True | 1,36          |     2 |\n",
      "|  True | 36            |     4 |\n",
      "|  True | 2,36          |     2 |\n"
     ]
    }
   ],
   "source": [
    "# Count of tracked_cause of tased folks\n",
    "cause_taser_types = deaths.pivot(['tazed', 'tracked_cause'])\n",
    "\n",
    "cause_taser_types.print_table()"
   ]
  },
  {
   "cell_type": "code",
   "execution_count": 6,
   "metadata": {},
   "outputs": [
    {
     "name": "stdout",
     "output_type": "stream",
     "text": [
      "| tazed | tracked_cause | Count |\n",
      "| ----- | ------------- | ----- |\n",
      "|  True | 1,36          |     2 |\n",
      "|  True | 36            |     4 |\n",
      "|  True | 2,36          |     2 |\n"
     ]
    }
   ],
   "source": [
    "# this filters the cause_taser_types table to just those where\n",
    "# the tracked_cause ID is '36', which is Electric shock\n",
    "shocked = cause_taser_types.where(\n",
    "    lambda row: re.search('36', str(row['tracked_cause']))\n",
    ")\n",
    "\n",
    "# this further filters to tazed is true\n",
    "tased_shocked = shocked.where(lambda row: row['tazed'] == True)\n",
    "\n",
    "# prints it\n",
    "tased_shocked.print_table()"
   ]
  },
  {
   "cell_type": "markdown",
   "metadata": {},
   "source": [
    "### Number of cases shock is cause of death"
   ]
  },
  {
   "cell_type": "code",
   "execution_count": 7,
   "metadata": {},
   "outputs": [
    {
     "name": "stdout",
     "output_type": "stream",
     "text": [
      "Total cases where Electric shock is an official cause of death: 8\n"
     ]
    }
   ],
   "source": [
    "# sums the tracked_cause_count column of those tazed & shocked to death\n",
    "# this is number of dead where taser listed as cause\n",
    "cases_shocked_tased = tased_shocked.aggregate(agate.Sum('Count'))\n",
    "print('Total cases where Electric shock is an official cause of death: {}'.format(cases_shocked_tased))"
   ]
  },
  {
   "cell_type": "markdown",
   "metadata": {},
   "source": [
    "## Taser deaths by race\n",
    "\n",
    "Demographics of those marked as being tased."
   ]
  },
  {
   "cell_type": "code",
   "execution_count": 8,
   "metadata": {},
   "outputs": [
    {
     "name": "stdout",
     "output_type": "stream",
     "text": [
      "| race_name       | Count |\n",
      "| --------------- | ----- |\n",
      "| Black           |    42 |\n",
      "| Hispanic/Latino |    21 |\n",
      "| Asian           |     1 |\n",
      "| White           |    23 |\n",
      "\n",
      "\n",
      "race_name       Count\n",
      "Black              42 ▓░░░░░░░░░░░░░░░░░░░░░░░░░░░░░░░      \n",
      "Hispanic/Latino    21 ▓░░░░░░░░░░░░░░░░                     \n",
      "Asian               1 ▓░                                    \n",
      "White              23 ▓░░░░░░░░░░░░░░░░░                    \n",
      "                      +--------+--------+---------+--------+\n",
      "                      0.0    12.5     25.0      37.5    50.0\n"
     ]
    }
   ],
   "source": [
    "# select just the tazed cases\n",
    "tased_true = deaths.where(lambda row: row['tazed'] == True)\n",
    "\n",
    "# pivot tased cases by race\n",
    "tased_race_pivot = tased_true.pivot('race_name')\n",
    "\n",
    "# print a table of the pivot\n",
    "tased_race_pivot.print_table()\n",
    "\n",
    "print(\"\\n\")\n",
    "\n",
    "# print bars of the pivot\n",
    "tased_race_pivot.print_bars('race_name', 'Count', width=60)\n",
    "\n",
    "tased_race_pivot.to_csv('../exports/tased_race_pivot.csv')"
   ]
  },
  {
   "cell_type": "markdown",
   "metadata": {},
   "source": [
    "## Times tased"
   ]
  },
  {
   "cell_type": "code",
   "execution_count": 9,
   "metadata": {},
   "outputs": [
    {
     "name": "stdout",
     "output_type": "stream",
     "text": [
      "Number of people who were tased:\n",
      "87\n"
     ]
    }
   ],
   "source": [
    "# Create a table of those tased\n",
    "tased = deaths.where(lambda row: row['tazed'] is True)\n",
    "\n",
    "print('Number of people who were tased:\\n{}'.format(len(tased)))"
   ]
  },
  {
   "cell_type": "code",
   "execution_count": 10,
   "metadata": {},
   "outputs": [
    {
     "name": "stdout",
     "output_type": "stream",
     "text": [
      "| times_tazed | Count |\n",
      "| ----------- | ----- |\n",
      "| [1 - 2)     |    22 |\n",
      "| [2 - 3)     |    27 |\n",
      "| [3 - 4)     |    13 |\n",
      "| [4 - 5)     |    10 |\n",
      "| [5 - 6)     |     2 |\n",
      "| [6 - 7)     |     2 |\n",
      "| [7 - 8)     |     4 |\n",
      "| [10 - 50]   |     7 |\n",
      "times_tazed Count\n",
      "[1 - 2)        22 ▓░░░░░░░░░░░░░░░░░░░░░░░░░░░░░░           \n",
      "[2 - 3)        27 ▓░░░░░░░░░░░░░░░░░░░░░░░░░░░░░░░░░░░░░    \n",
      "[3 - 4)        13 ▓░░░░░░░░░░░░░░░░░░                       \n",
      "[4 - 5)        10 ▓░░░░░░░░░░░░░░                           \n",
      "[5 - 6)         2 ▓░░░                                      \n",
      "[6 - 7)         2 ▓░░░                                      \n",
      "[7 - 8)         4 ▓░░░░░                                    \n",
      "[10 - 50]       7 ▓░░░░░░░░░░                               \n",
      "                  +---------+---------+----------+---------+\n",
      "                  0.0      7.5      15.0       22.5     30.0\n"
     ]
    }
   ],
   "source": [
    "# histogram to show how many subjects have been\n",
    "# tased a certain number of times\n",
    "# first number in bin is times tazed except for last which is a range.\n",
    "tased_bins = tased.bins('times_tazed', 11, 0, 11)\n",
    "\n",
    "tased_bins.to_csv('../exports/tased_bins.csv')\n",
    "\n",
    "tased_bins.print_table()\n",
    "# tased.bins('times_tazed', 11, 0, 11).print_table()\n",
    "\n",
    "tased_bins.print_bars('times_tazed', width=60)"
   ]
  },
  {
   "cell_type": "code",
   "execution_count": 11,
   "metadata": {},
   "outputs": [
    {
     "data": {
      "text/plain": [
       "27"
      ]
     },
     "execution_count": 11,
     "metadata": {},
     "output_type": "execute_result"
    }
   ],
   "source": [
    "# to check a specific number of times_tazed\n",
    "tased.aggregate(agate.Count('times_tazed', 2))"
   ]
  },
  {
   "cell_type": "markdown",
   "metadata": {
    "collapsed": true
   },
   "source": [
    "## Tased with toxicity\n",
    "\n",
    "This is a list of cases where the subject was tased and there was some indication in the cause_of_death field that drugs were involved."
   ]
  },
  {
   "cell_type": "code",
   "execution_count": 12,
   "metadata": {},
   "outputs": [
    {
     "name": "stdout",
     "output_type": "stream",
     "text": [
      "Those tased with toxicity: 59, or 67.8% of the total 87 tased.\n",
      "\n",
      "Names of those in list:\n",
      "\n",
      "| first_name | middle_name   | last_name        | reporter |\n",
      "| ---------- | ------------- | ---------------- | -------- |\n",
      "| Pierre     | Tourell       | Abernathy        | ed       |\n",
      "| Raymond    | Luther        | Allen            | ed       |\n",
      "| Ross       | Allen         | Anthony          | ed       |\n",
      "| Manuel     | A.            | Baltazar         | ed       |\n",
      "| Willie     | Ray           | Banks            | ed       |\n",
      "| Richard    | Eduardo       | Battistata       | js       |\n",
      "| Derrick    | Anthony       | Birdow           | ab       |\n",
      "| Inocencio  | Juarez        | Cardenas         | js       |\n",
      "| Ernesto    |               | Carraman         | ed       |\n",
      "| Michael    | Shea          | Cassel           |          |\n",
      "| Wilber     |               | Castillo-Gongora | ab       |\n",
      "| Denis      | John          | Chabot           | ed       |\n",
      "| Norman     | Lee           | Cooper           | ed       |\n",
      "| Louis      | Jacoby        | Cryer            | tp       |\n",
      "| Carolyn    | Jean          | Daniels          | ed       |\n",
      "| Kenneth    |               | Eagleton         | ed       |\n",
      "| Tyree      | Sinclair      | Edwards          | js       |\n",
      "| Mario      |               | Evans            | ed       |\n",
      "| Joe        |               | Faltesek         | ed       |\n",
      "| Michael    | Dean          | Ford             | ed       |\n",
      "| Nancy      | Lynn          | Friedrich        | ab       |\n",
      "| Sergio     |               | Galvan           | ed       |\n",
      "| Macario    | Cisneros      | Garcia           | js       |\n",
      "| Ramiro     | Rodriguez     | Garcia           | ed       |\n",
      "| Rosendo    |               | Gaytan           | tp       |\n",
      "| Fernando   |               | Gomez            | js       |\n",
      "| Mark       | Spotswood     | Green            | ed       |\n",
      "| Barney     | Lee           | Green            |          |\n",
      "| Rodney     | Earl          | Green            | tp       |\n",
      "| Daniel     | Lee           | Guerra           | ab       |\n",
      "| Eric       | Jay           | Hammock          | ed       |\n",
      "| Johnny     | Anthony       | Hooper           | js       |\n",
      "| Terrell    | Leray         | Houston          | ed       |\n",
      "| Tyrone     | Ulrich        | Jones            | tp       |\n",
      "| Jerry      | Lynn          | Jones            | tp       |\n",
      "| Thomas     | Joseph        | Kirksey          | ed       |\n",
      "| Kevin      | Jibreel       | Laday            | tp       |\n",
      "| Keith      |               | Latin            | ed       |\n",
      "| Erick      | Damon         | Lee              | ed       |\n",
      "| Shmekia    | Rena Shyontay | Lewis            |          |\n",
      "| Freddie    | Lee           | Lockett          | ed       |\n",
      "| Noah       | Ray           | Lopez            | ed       |\n",
      "| Levon      | Leroy         | Love             | ed       |\n",
      "| Juan       | Manuel        | Nunez            | js       |\n",
      "| Kevin      | Ray           | Omas             | ab       |\n",
      "| Thomas     | Donald        | Rice             | tp       |\n",
      "| Eric       | Ladale        | Ricks            | ab       |\n",
      "| Michael    | Shunn         | Roberson         | ab       |\n",
      "| Antonio    | Santiago      | Rodriguez        | ed       |\n",
      "| Jose       |               | Romero           | ed       |\n",
      "| Tony       | Chance        | Ross             | ed       |\n",
      "| Kelly      | Wayne         | Sinclair         | js       |\n",
      "| Marcus     | Dewayne       | Slade            | ab       |\n",
      "| Daniel     | Rivera        | Tamez            | ed       |\n",
      "| Thuan      |               | Tran             | ed       |\n",
      "| Adren      | Maurice       | Turner           | ed       |\n",
      "| Jamaal     | Ray           | Valentine        | tp       |\n",
      "| Coy        | Wayne         | Walker           | ed       |\n",
      "| Marion     |               | Wilson           | ed       |\n"
     ]
    }
   ],
   "source": [
    "# regex search based on drug terms\n",
    "# was double-checked by hand\n",
    "tased_toxic = tased.where(lambda row: re.search(\n",
    "        '(?i)meth|(?i)Cocaine|(?i)toxic|(?i)overdose|(?i)phencyclidine|(?i)PCP|(?i)drug|(?i)Ecstasy|(?i)MDMA',\\\n",
    "        str(row['cause_of_death'])\n",
    "    ))\n",
    "\n",
    "# print numbers and percentages\n",
    "print('Those tased with toxicity: {}, or {:.1%} of the total {} tased.\\n'.format(\n",
    "        len(tased_toxic),\n",
    "        len(tased_toxic) / deaths_tased_count,\n",
    "        len(tased)\n",
    "    ))\n",
    "\n",
    "# print list of deceased tased with toxicity\n",
    "print('Names of those in list:\\n')\n",
    "tased_toxic.select(['first_name',\n",
    "                   'middle_name',\n",
    "                   'last_name',\n",
    "                   'reporter_assigned']\n",
    "                  ).rename(column_names={\n",
    "                          'reporter_assigned': 'reporter'\n",
    "                          }).order_by('last_name').print_table(max_rows=None)\n"
   ]
  },
  {
   "cell_type": "markdown",
   "metadata": {},
   "source": [
    "## Data integrity checks\n",
    "\n",
    "Other cleanup or checks as necessary."
   ]
  },
  {
   "cell_type": "markdown",
   "metadata": {},
   "source": [
    "### Records where tazed is null"
   ]
  },
  {
   "cell_type": "code",
   "execution_count": 13,
   "metadata": {},
   "outputs": [
    {
     "name": "stdout",
     "output_type": "stream",
     "text": [
      "Number of cases where `tazed` is null: 0\n",
      "\n",
      "| first_name | middle_name | last_name | reporter_assigned |\n",
      "| ---------- | ----------- | --------- | ----------------- |\n"
     ]
    }
   ],
   "source": [
    "# finds deaths rows where `tazed` is null\n",
    "tazed_null = deaths.where(lambda row: row['tazed'] == None)\n",
    "\n",
    "# print number of records\n",
    "print('Number of cases where `tazed` is null: {}\\n'.format(\n",
    "      len(tazed_null)  \n",
    "    ))\n",
    "\n",
    "# selects that name rows from the tazed_null table and prints them\n",
    "tazed_null_names = tazed_null.select([\n",
    "        'first_name',\n",
    "        'middle_name',\n",
    "        'last_name',\n",
    "        'reporter_assigned'\n",
    "    ]).order_by('last_name')\n",
    "tazed_null_names.print_table(max_rows=85)"
   ]
  },
  {
   "cell_type": "markdown",
   "metadata": {},
   "source": [
    "### Tazed marked Yes, but tazed_times is Null"
   ]
  },
  {
   "cell_type": "code",
   "execution_count": 14,
   "metadata": {
    "scrolled": true
   },
   "outputs": [
    {
     "name": "stdout",
     "output_type": "stream",
     "text": [
      "| first_name | middle_name | last_name | reporter |\n",
      "| ---------- | ----------- | --------- | -------- |\n"
     ]
    }
   ],
   "source": [
    "# finds deaths rows where `tazed` is null\n",
    "tazed_not_null = deaths.where(lambda row: row['tazed'] is True)\n",
    "tazed_time_null = tazed_not_null.where(lambda row: row['times_tazed'] == None)\n",
    "\n",
    "tazed_time_null.select([\n",
    "        'first_name',\n",
    "        'middle_name',\n",
    "        'last_name',\n",
    "        'reporter_assigned'\n",
    "    ]).order_by('last_name').rename(column_names = {\n",
    "        'reporter_assigned': 'reporter'\n",
    "    }).print_table(max_rows=None)"
   ]
  },
  {
   "cell_type": "code",
   "execution_count": null,
   "metadata": {},
   "outputs": [],
   "source": []
  }
 ],
 "metadata": {
  "kernelspec": {
   "display_name": "Python 3",
   "language": "python",
   "name": "python3"
  },
  "language_info": {
   "codemirror_mode": {
    "name": "ipython",
    "version": 3
   },
   "file_extension": ".py",
   "mimetype": "text/x-python",
   "name": "python",
   "nbconvert_exporter": "python",
   "pygments_lexer": "ipython3",
   "version": "3.5.4"
  }
 },
 "nbformat": 4,
 "nbformat_minor": 1
}
