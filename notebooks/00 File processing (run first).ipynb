{
 "cells": [
  {
   "cell_type": "markdown",
   "metadata": {},
   "source": [
    "# File processing script\n",
    "\n",
    "This script needs to be run before any other notebook. It uses an export from our data store and adds then some model definitions to add pretty names for things like race names, manner of death, etc.\n",
    "\n",
    "It's set to pull the latest export of the data."
   ]
  },
  {
   "cell_type": "code",
   "execution_count": 1,
   "metadata": {},
   "outputs": [],
   "source": [
    "import agate\n",
    "import warnings\n",
    "warnings.filterwarnings('ignore')"
   ]
  },
  {
   "cell_type": "markdown",
   "metadata": {},
   "source": [
    "## Get the data"
   ]
  },
  {
   "cell_type": "code",
   "execution_count": 2,
   "metadata": {},
   "outputs": [
    {
     "name": "stdout",
     "output_type": "stream",
     "text": [
      "\u001b[31mDeath-2017-06-13.csv\u001b[m\u001b[m* \u001b[31moffense_table.csv\u001b[m\u001b[m*\r\n",
      "\u001b[31magency_table.csv\u001b[m\u001b[m*     \u001b[31moffenses_latest.csv\u001b[m\u001b[m*\r\n"
     ]
    }
   ],
   "source": [
    "ls ../data_raw/"
   ]
  },
  {
   "cell_type": "code",
   "execution_count": 3,
   "metadata": {},
   "outputs": [
    {
     "name": "stdout",
     "output_type": "stream",
     "text": [
      "| column               | data_type |\n",
      "| -------------------- | --------- |\n",
      "| id                   | Number    |\n",
      "| ag_report_url        | Text      |\n",
      "| first_name           | Text      |\n",
      "| middle_name          | Text      |\n",
      "| last_name            | Text      |\n",
      "| suffix               | Text      |\n",
      "| slug                 | Text      |\n",
      "| race                 | Text      |\n",
      "| gender               | Text      |\n",
      "| date_of_birth        | Date      |\n",
      "| date_of_death        | Date      |\n",
      "| age                  | Number    |\n",
      "| agency               | Number    |\n",
      "| restrained           | Boolean   |\n",
      "| tazed                | Boolean   |\n",
      "| times_tazed          | Number    |\n",
      "| pepper_sprayed       | Boolean   |\n",
      "| official_discipline  | Text      |\n",
      "| grand_jury_result    | Text      |\n",
      "| mental_health_issues | Boolean   |\n",
      "| manner_of_death      | Text      |\n",
      "| drug_intoxication    | Boolean   |\n",
      "| cause_of_death       | Text      |\n",
      "| tracked_cause        | Text      |\n",
      "| offense              | Text      |\n",
      "| investigation        | Text      |\n",
      "| notes                | Text      |\n",
      "| ag_summary           | Text      |\n",
      "| reporter_assigned    | Text      |\n",
      "| record_status        | Text      |\n",
      "| case_study           | Text      |\n",
      "| story_summary        | Text      |\n",
      "| photo                | Text      |\n",
      "| cropping             | Number    |\n",
      "\n"
     ]
    }
   ],
   "source": [
    "# path to the most recent export of the Deaths model from the admin \n",
    "raw_file = '../data_raw/Death-2017-06-13.csv'\n",
    "\n",
    "# sets data types on fields agate got wrong\n",
    "specified_data_types = {\n",
    "    'tracked_cause': agate.Text(),\n",
    "    'offense': agate.Text(),\n",
    "    'case_study': agate.Text(),\n",
    "    'official_discipline': agate.Text()\n",
    "}\n",
    "\n",
    "# read in the data\n",
    "deaths = agate.Table.from_csv(raw_file, column_types=specified_data_types)\n",
    "\n",
    "# print what we got\n",
    "print(deaths)"
   ]
  },
  {
   "cell_type": "markdown",
   "metadata": {},
   "source": [
    "### Sets up variable names\n",
    "\n",
    "The original deaths table uses a series of id_letters for different values, so these have to be added to the table to have pretty names.\n",
    "\n",
    "Here I amend the same table over and over in a series of joins. This may not be ideal (i.e, [non-Groskopf-esque](http://agate.readthedocs.io/en/1.6.0/about.html#principles), but I'm at least putting them all together so they can be managed together."
   ]
  },
  {
   "cell_type": "code",
   "execution_count": 4,
   "metadata": {},
   "outputs": [],
   "source": [
    "# array matches models.py in data warehouse\n",
    "RACE = (\n",
    "    ('w', 'White'),\n",
    "    ('b', 'Black'),\n",
    "    ('h', 'Hispanic/Latino'),\n",
    "    ('a', 'Asian'),\n",
    "    ('n', 'Native American/Pacific Islander'),\n",
    "    ('o', 'Other'),\n",
    "    ('u', 'Unknown'),\n",
    ")\n",
    "\n",
    "# set columns and make table\n",
    "race_column_names = ['letter', 'race_name']\n",
    "race_values = agate.Table(RACE, race_column_names)\n",
    "\n",
    "# joins race_values table to deaths to get pretty race names\n",
    "deaths = deaths.join(race_values, 'race', 'letter')\n",
    "\n",
    "MANNER = (\n",
    "    ('n', 'Natural'),\n",
    "    ('a', 'Accident'),\n",
    "    ('h', 'Homicide'),\n",
    "    ('s', 'Suicide'),\n",
    "    ('u', 'Undetermined'),\n",
    ")\n",
    "\n",
    "# set columns, makes table, makes join\n",
    "manner_column_names = ['letter', 'manner_name']\n",
    "manner_values = agate.Table(MANNER, manner_column_names)\n",
    "deaths = deaths.join(manner_values, 'manner_of_death', 'letter')\n",
    "\n",
    "GRANDJURY = (\n",
    "    ('i', 'Indictment'),\n",
    "    ('n', 'No-bill'),\n",
    "    ('b', 'Not brought')\n",
    ")\n",
    "\n",
    "# set columns, makes table, makes join\n",
    "grandjury_column_names = ['letter', 'grand_jury_name']\n",
    "grandjury_values = agate.Table(GRANDJURY, grandjury_column_names)\n",
    "deaths = deaths.join(grandjury_values, 'grand_jury_result', 'letter')\n",
    "\n",
    "DISCIPLINE = (\n",
    "    ('f', 'Fired'),\n",
    "    ('s', 'Suspended'),\n",
    "    ('n', 'None'),\n",
    "    ('r', 'No reply')\n",
    ")\n",
    "\n",
    "discipline_columns_names = ['letter', 'discipline_name']\n",
    "discipline_values = agate.Table(DISCIPLINE, discipline_columns_names)\n",
    "deaths = deaths.join(discipline_values, 'official_discipline', 'letter')"
   ]
  },
  {
   "cell_type": "code",
   "execution_count": 5,
   "metadata": {},
   "outputs": [],
   "source": [
    "deaths.to_csv('../exports/deaths_latest.csv')"
   ]
  },
  {
   "cell_type": "code",
   "execution_count": null,
   "metadata": {},
   "outputs": [],
   "source": []
  }
 ],
 "metadata": {
  "kernelspec": {
   "display_name": "Python 3",
   "language": "python",
   "name": "python3"
  },
  "language_info": {
   "codemirror_mode": {
    "name": "ipython",
    "version": 3
   },
   "file_extension": ".py",
   "mimetype": "text/x-python",
   "name": "python",
   "nbconvert_exporter": "python",
   "pygments_lexer": "ipython3",
   "version": "3.5.4"
  }
 },
 "nbformat": 4,
 "nbformat_minor": 1
}
