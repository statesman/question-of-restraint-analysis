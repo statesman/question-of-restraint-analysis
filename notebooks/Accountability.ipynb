{
 "cells": [
  {
   "cell_type": "markdown",
   "metadata": {},
   "source": [
    "# Accountablity\n",
    "\n",
    "Numbers of cases by discipline and grand jury. Relates to story [Texas police rarely faulted as 289 suspects died in their custody](http://www.mystatesman.com/news/statesman-investigates-texas-police-rarely-faulted-289-suspects-died-their-custody/evCD6YyzMSZQi4c06QKfJP/)"
   ]
  },
  {
   "cell_type": "code",
   "execution_count": 1,
   "metadata": {},
   "outputs": [],
   "source": [
    "import agate"
   ]
  },
  {
   "cell_type": "code",
   "execution_count": 2,
   "metadata": {},
   "outputs": [
    {
     "name": "stdout",
     "output_type": "stream",
     "text": [
      "| column               | data_type |\n",
      "| -------------------- | --------- |\n",
      "| id                   | Number    |\n",
      "| ag_report_url        | Text      |\n",
      "| first_name           | Text      |\n",
      "| middle_name          | Text      |\n",
      "| last_name            | Text      |\n",
      "| suffix               | Text      |\n",
      "| slug                 | Text      |\n",
      "| race                 | Text      |\n",
      "| gender               | Text      |\n",
      "| date_of_birth        | Date      |\n",
      "| date_of_death        | Date      |\n",
      "| age                  | Number    |\n",
      "| agency               | Number    |\n",
      "| restrained           | Boolean   |\n",
      "| tazed                | Boolean   |\n",
      "| times_tazed          | Number    |\n",
      "| pepper_sprayed       | Boolean   |\n",
      "| official_discipline  | Text      |\n",
      "| grand_jury_result    | Text      |\n",
      "| mental_health_issues | Boolean   |\n",
      "| manner_of_death      | Text      |\n",
      "| drug_intoxication    | Boolean   |\n",
      "| cause_of_death       | Text      |\n",
      "| tracked_cause        | Text      |\n",
      "| offense              | Text      |\n",
      "| investigation        | Text      |\n",
      "| notes                | Text      |\n",
      "| ag_summary           | Text      |\n",
      "| reporter_assigned    | Text      |\n",
      "| record_status        | Text      |\n",
      "| case_study           | Text      |\n",
      "| story_summary        | Text      |\n",
      "| photo                | Text      |\n",
      "| cropping             | Number    |\n",
      "| race_name            | Text      |\n",
      "| manner_name          | Text      |\n",
      "| grand_jury_name      | Text      |\n",
      "| discipline_name      | Text      |\n",
      "\n",
      "Total deaths: 289\n",
      "\n"
     ]
    }
   ],
   "source": [
    "# sets data types on fields agate got wrong\n",
    "specified_data_types = {\n",
    "    'tracked_cause': agate.Text(),\n",
    "    'offense': agate.Text(),\n",
    "    'case_study': agate.Text(),\n",
    "    'official_discipline': agate.Text()\n",
    "}\n",
    "deaths = agate.Table.from_csv('../exports/deaths_latest.csv', column_types=specified_data_types)\n",
    "\n",
    "print(deaths)\n",
    "\n",
    "# get and print total number of cases\n",
    "deaths_total_count = len(deaths)\n",
    "print('Total deaths: {}\\n'.format(deaths_total_count))\n"
   ]
  },
  {
   "cell_type": "code",
   "execution_count": 3,
   "metadata": {},
   "outputs": [
    {
     "name": "stdout",
     "output_type": "stream",
     "text": [
      "Breaks down grand jury, out of 289 total cases:\n",
      "\n",
      "| grand_jury_name | Count |\n",
      "| --------------- | ----- |\n",
      "|                 |   129 |\n",
      "| Not brought     |    82 |\n",
      "| No-bill         |    76 |\n",
      "| Indictment      |     2 |\n"
     ]
    }
   ],
   "source": [
    "deaths_grand_jury = deaths.pivot('grand_jury_name')\n",
    "\n",
    "print('Breaks down grand jury, out of {} total cases:\\n'.format(\n",
    "    deaths_total_count))\n",
    "deaths_grand_jury.print_table()"
   ]
  },
  {
   "cell_type": "code",
   "execution_count": 4,
   "metadata": {},
   "outputs": [
    {
     "name": "stdout",
     "output_type": "stream",
     "text": [
      "Breaks down discipline, out of 289 total cases:\n",
      "\n",
      "| discipline_name | Count |\n",
      "| --------------- | ----- |\n",
      "|                 |   286 |\n",
      "| Fired           |     3 |\n"
     ]
    }
   ],
   "source": [
    "deaths_discipline = deaths.pivot('discipline_name')\n",
    "\n",
    "print('Breaks down discipline, out of {} total cases:\\n'.format(\n",
    "    deaths_total_count))\n",
    "deaths_discipline.print_table()"
   ]
  },
  {
   "cell_type": "code",
   "execution_count": 5,
   "metadata": {},
   "outputs": [
    {
     "name": "stdout",
     "output_type": "stream",
     "text": [
      "Total deaths: 289\n",
      "\n"
     ]
    }
   ],
   "source": [
    "# sets data types on fields agate got wrong\n",
    "specified_data_types = {\n",
    "    'tracked_cause': agate.Text(),\n",
    "    'offense': agate.Text(),\n",
    "    'case_study': agate.Text(),\n",
    "    'official_discipline': agate.Text()\n",
    "}\n",
    "deaths_with_notes = agate.Table.from_csv(\n",
    "#     '../data_raw/Death-2017-06-13.csv',\n",
    "    '../exports/deaths_latest.csv',\n",
    "    column_types=specified_data_types\n",
    ")\n",
    "\n",
    "# get and print total number of cases\n",
    "print('Total deaths: {}\\n'.format(\n",
    "    len(deaths_with_notes)\n",
    "))\n"
   ]
  },
  {
   "cell_type": "markdown",
   "metadata": {},
   "source": [
    "### Settlements\n",
    "\n",
    "When reporters found there was a settlement in a case, they added it to the notes field in the database. This query finds those cases. By [Dan Keemahill](dankeemahill)."
   ]
  },
  {
   "cell_type": "code",
   "execution_count": 6,
   "metadata": {
    "scrolled": true
   },
   "outputs": [
    {
     "name": "stdout",
     "output_type": "stream",
     "text": [
      "|  id | first_name | middle_name | last_name |\n",
      "| --- | ---------- | ----------- | --------- |\n",
      "| 667 | Michael    | Louis       | Peden     |\n",
      "| 637 | Joel       | Don         | Casey     |\n",
      "| 550 | Corey      | Dean        | Bailey    |\n",
      "| 497 | Kevin      | Jibreel     | Laday     |\n",
      "| 491 | Jamaal     | Ray         | Valentine |\n",
      "| 450 | Michael    | Patrick     | Jacobs    |\n"
     ]
    }
   ],
   "source": [
    "import re\n",
    "\n",
    "deaths_with_notes.where(\n",
    "    # notes field contains \"$\" or \"settl\"\n",
    "    # this search was discussed during iTeam meeting\n",
    "    lambda row: re.search(r'(\\$)|settl',\n",
    "                          str(row['notes']))\n",
    "    ).select(\n",
    "    ['id',\n",
    "     'first_name',\n",
    "     'middle_name',\n",
    "     'last_name'\n",
    "    ]).print_table()"
   ]
  },
  {
   "cell_type": "code",
   "execution_count": 7,
   "metadata": {},
   "outputs": [
    {
     "name": "stdout",
     "output_type": "stream",
     "text": [
      "| dollar_amt    | name                 |  id |\n",
      "| ------------- | -------------------- | --- |\n",
      "| $3 million    | Joel Don Casey       | 637 |\n",
      "| $1.25 million | Jonathan Ryan Paul   | 619 |\n",
      "| $800,000      | Corey Dean Bailey    | 550 |\n",
      "| $49,000       | Juan Manuel Nunez    | 496 |\n",
      "| $2 million    | Michael Patrick J... | 450 |\n"
     ]
    }
   ],
   "source": [
    "# use regex to find settle amounts for Robert\n",
    "payload = []\n",
    "\n",
    "for row in deaths_with_notes.where(\n",
    "    lambda row: re.search(r'(\\$)|settl',\n",
    "                          str(row['notes'])) or\n",
    "        re.search(r'(\\$)|settl',\n",
    "                 str(row['investigation']))\n",
    "    # iterate settlement cases\n",
    "    ).rows:\n",
    "    if re.search(r'\\$\\d.*', str(row['notes'])):\n",
    "        dollar_amt = (re.search(r'\\$\\d.*', str(row['notes']))\n",
    "                       .group())\n",
    "        \n",
    "        payload.append({\n",
    "            'name': '{} {} {}'.format(\n",
    "                row['first_name'],\n",
    "                row['middle_name'],\n",
    "                row['last_name']\n",
    "            ),\n",
    "            'id': row['id'],\n",
    "            'dollar_amt': ' '.join(dollar_amt.replace('Settlement', '')\n",
    "                                             .split(u' ')[:2])\n",
    "        })\n",
    "        \n",
    "    if re.search(r'\\$\\d.*', str(row['investigation'])):\n",
    "        dollar_amt = (re.search(r'\\$\\d.*', str(row['investigation']))\n",
    "                       .group())\n",
    "        \n",
    "        payload.append({\n",
    "            'name': '{} {} {}'.format(\n",
    "                row['first_name'],\n",
    "                row['middle_name'],\n",
    "                row['last_name']\n",
    "            ),\n",
    "            'id': row['id'],\n",
    "            'dollar_amt': ' '.join(dollar_amt.replace('Settlement', '')\n",
    "                                             .split(u' ')[:2])\n",
    "        })\n",
    "        \n",
    "# display\n",
    "agate.Table.from_object(\n",
    "    payload\n",
    ").print_table()"
   ]
  },
  {
   "cell_type": "code",
   "execution_count": null,
   "metadata": {},
   "outputs": [],
   "source": []
  }
 ],
 "metadata": {
  "kernelspec": {
   "display_name": "Python 3",
   "language": "python",
   "name": "python3"
  },
  "language_info": {
   "codemirror_mode": {
    "name": "ipython",
    "version": 3
   },
   "file_extension": ".py",
   "mimetype": "text/x-python",
   "name": "python",
   "nbconvert_exporter": "python",
   "pygments_lexer": "ipython3",
   "version": "3.5.4"
  }
 },
 "nbformat": 4,
 "nbformat_minor": 1
}
