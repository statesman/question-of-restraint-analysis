{
 "cells": [
  {
   "cell_type": "markdown",
   "metadata": {},
   "source": [
    "# Bulletproofing custody deaths\n",
    "\n",
    "The purpose of this notebook is to look at all the different ways the data can be wrong or lacking.\n",
    "\n",
    "There is also some various data checks in individual notebooks."
   ]
  },
  {
   "cell_type": "markdown",
   "metadata": {},
   "source": [
    "### Get the data\n",
    "\n",
    "This is the same in all the notebooks. You have to run the [File processing](./) notebook first to get the cleaned files."
   ]
  },
  {
   "cell_type": "code",
   "execution_count": 1,
   "metadata": {},
   "outputs": [],
   "source": [
    "import agate\n",
    "import datetime"
   ]
  },
  {
   "cell_type": "code",
   "execution_count": 2,
   "metadata": {},
   "outputs": [
    {
     "name": "stdout",
     "output_type": "stream",
     "text": [
      "| column               | data_type |\n",
      "| -------------------- | --------- |\n",
      "| id                   | Number    |\n",
      "| ag_report_url        | Text      |\n",
      "| first_name           | Text      |\n",
      "| middle_name          | Text      |\n",
      "| last_name            | Text      |\n",
      "| suffix               | Text      |\n",
      "| slug                 | Text      |\n",
      "| race                 | Text      |\n",
      "| gender               | Text      |\n",
      "| date_of_birth        | Date      |\n",
      "| date_of_death        | Date      |\n",
      "| age                  | Number    |\n",
      "| agency               | Number    |\n",
      "| restrained           | Boolean   |\n",
      "| tazed                | Boolean   |\n",
      "| times_tazed          | Number    |\n",
      "| pepper_sprayed       | Boolean   |\n",
      "| official_discipline  | Text      |\n",
      "| grand_jury_result    | Text      |\n",
      "| mental_health_issues | Boolean   |\n",
      "| manner_of_death      | Text      |\n",
      "| drug_intoxication    | Boolean   |\n",
      "| cause_of_death       | Text      |\n",
      "| tracked_cause        | Text      |\n",
      "| offense              | Text      |\n",
      "| investigation        | Text      |\n",
      "| notes                | Text      |\n",
      "| ag_summary           | Text      |\n",
      "| reporter_assigned    | Text      |\n",
      "| record_status        | Text      |\n",
      "| case_study           | Text      |\n",
      "| story_summary        | Text      |\n",
      "| photo                | Text      |\n",
      "| cropping             | Number    |\n",
      "| race_name            | Text      |\n",
      "| manner_name          | Text      |\n",
      "| grand_jury_name      | Text      |\n",
      "| discipline_name      | Text      |\n",
      "\n"
     ]
    }
   ],
   "source": [
    "# sets data types on fields agate got wrong\n",
    "specified_data_types = {\n",
    "    'tracked_cause': agate.Text(),\n",
    "    'offense': agate.Text(),\n",
    "    'case_study': agate.Text(),\n",
    "    'official_discipline': agate.Text()\n",
    "}\n",
    "\n",
    "# this pulls the deaths file that is exported in the File processing notebook\n",
    "deaths = agate.Table.from_csv('../exports/deaths_latest.csv', column_types=specified_data_types)\n",
    "\n",
    "print(deaths)"
   ]
  },
  {
   "cell_type": "markdown",
   "metadata": {},
   "source": [
    "### No ag_report_url\n",
    "\n",
    "These are cases with no custody death report on file with the AG's officer."
   ]
  },
  {
   "cell_type": "code",
   "execution_count": 3,
   "metadata": {},
   "outputs": [
    {
     "name": "stdout",
     "output_type": "stream",
     "text": [
      "| first_name | middle_name | last_name | reporter |\n",
      "| ---------- | ----------- | --------- | -------- |\n",
      "| Dustin     | Keith       | Glover    | ed       |\n",
      "| Mark       | Spotswood   | Green     | ed       |\n",
      "| Thuan      |             | Tran      | ed       |\n",
      "| Joel       | Don         | Casey     | ed       |\n",
      "| Kenneth    |             | Eagleton  | ed       |\n",
      "| Herman     |             | Barnes    | ed       |\n"
     ]
    }
   ],
   "source": [
    "no_ag = deaths.where(lambda row: row['ag_report_url'] == None)\n",
    "\n",
    "no_ag.select([\n",
    "                'first_name',\n",
    "                'middle_name',\n",
    "                'last_name',\n",
    "                'reporter_assigned']).rename(column_names={'reporter_assigned': 'reporter'}).print_table()"
   ]
  },
  {
   "cell_type": "markdown",
   "metadata": {},
   "source": [
    "### No birthdate\n",
    "\n",
    "The `date_of_birth` field is required, so we used 1900-01-01 for records where we didn't have that date."
   ]
  },
  {
   "cell_type": "code",
   "execution_count": 4,
   "metadata": {},
   "outputs": [
    {
     "name": "stdout",
     "output_type": "stream",
     "text": [
      "There were three cases where there was no birthdate:\n",
      "\n",
      "| first_name | middle_name | last_name | date_of_birth |\n",
      "| ---------- | ----------- | --------- | ------------- |\n",
      "| Mark       | Spotswood   | Green     |    1900-01-01 |\n",
      "| Kenneth    |             | Eagleton  |    1900-01-01 |\n",
      "| Herman     |             | Barnes    |    1900-01-01 |\n",
      "| Robert     | Earl        | Williams  |    1942-12-01 |\n",
      "| William    |             | Livezey   |    1943-03-04 |\n",
      "| ...        | ...         | ...       |           ... |\n"
     ]
    }
   ],
   "source": [
    "# all deaths ordered by date of birth to show bad ones at top.\n",
    "\n",
    "print('There were three cases where there was no birthdate:\\n')\n",
    "deaths.select(['first_name',\n",
    "               'middle_name',\n",
    "               'last_name',\n",
    "               'date_of_birth']).order_by('date_of_birth').print_table(5)"
   ]
  },
  {
   "cell_type": "markdown",
   "metadata": {},
   "source": [
    "### Where 'cause of death' is null"
   ]
  },
  {
   "cell_type": "code",
   "execution_count": 5,
   "metadata": {},
   "outputs": [
    {
     "name": "stdout",
     "output_type": "stream",
     "text": [
      "\n",
      "List of records where cause_of_death is null:\n",
      "\n",
      "| first_name | middle_name | last_name | reporter |\n",
      "| ---------- | ----------- | --------- | -------- |\n",
      "| Dustin     | Keith       | Glover    | ed       |\n",
      "| Mario      | Anthony     | Pedigone  | js       |\n",
      "| Manuel     |             | Delacruz  | js       |\n"
     ]
    }
   ],
   "source": [
    "# filter cases where cause of death is blank\n",
    "cause_none = deaths.where(lambda row: row['cause_of_death'] == None)\n",
    "\n",
    "print('\\nList of records where cause_of_death is null:\\n')\n",
    "\n",
    "# print the results\n",
    "cause_none.select([\n",
    "                'first_name',\n",
    "                'middle_name',\n",
    "                'last_name',\n",
    "                'reporter_assigned']).rename(column_names={'reporter_assigned': 'reporter'}).print_table()"
   ]
  },
  {
   "cell_type": "markdown",
   "metadata": {},
   "source": [
    "### No manner of death chosen"
   ]
  },
  {
   "cell_type": "code",
   "execution_count": 6,
   "metadata": {},
   "outputs": [
    {
     "name": "stdout",
     "output_type": "stream",
     "text": [
      "\n",
      "List of records where no manner_of_death chosen:\n",
      "\n",
      "| first_name | middle_name | last_name | reporter |\n",
      "| ---------- | ----------- | --------- | -------- |\n",
      "| Joshua     | Carl        | Ivy       |          |\n",
      "| Sam        |             | Akin      |          |\n",
      "| Larry      | Earl        | Leaks     |          |\n",
      "| Greg       |             | Cranfill  |          |\n",
      "| William    | Yendis      | Franklin  |          |\n",
      "| Lorenzo    | Charles     | Stiggers  |          |\n",
      "| Dennis     | Demarcus    | Oatis     |          |\n",
      "| John       | Yongwoo     | Kim       |          |\n",
      "| Efrain     | Agapito     | Sauceda   |          |\n",
      "| Jerry      | Guildwin    | Choate    |          |\n",
      "| Cory       | Christopher | Lucero    |          |\n",
      "| Antonie    | D           | Bell      |          |\n",
      "| Shawn      | Ellis       | Leflore   |          |\n",
      "| Dustin     | Keith       | Glover    | ed       |\n",
      "| Manuel     |             | Delacruz  | js       |\n",
      "| David      | Mercado     | Gonzalez  | ab       |\n",
      "| Macario    | Cisneros    | Garcia    | js       |\n",
      "| Jose       | DeJesus     | Ramirez   | ab       |\n",
      "| Shane      | Weston      | Cook      | ab       |\n",
      "| Francisco  | Ray         | Olivarez  | tp       |\n",
      "| Tyrone     | Ulrich      | Jones     | tp       |\n",
      "| Louis      | Jacoby      | Cryer     | tp       |\n",
      "| Marcus     | Dewayne     | Slade     | ab       |\n",
      "| Derrick    | Anthony     | Birdow    | ab       |\n",
      "| Pedro      | Serifino    | Longoria  | tp       |\n"
     ]
    }
   ],
   "source": [
    "# Filter to no manner of death:\n",
    "manner_none = deaths.where(lambda row: row['manner_of_death'] == None)\n",
    "\n",
    "print('\\nList of records where no manner_of_death chosen:\\n')\n",
    "# print names and reporters where true\n",
    "manner_none.select([\n",
    "                'first_name',\n",
    "                'middle_name',\n",
    "                'last_name',\n",
    "                'reporter_assigned']).rename(column_names={'reporter_assigned': 'reporter'}).print_table(max_rows=None)"
   ]
  },
  {
   "cell_type": "markdown",
   "metadata": {},
   "source": [
    "### No Grand Jury chosen"
   ]
  },
  {
   "cell_type": "code",
   "execution_count": 7,
   "metadata": {},
   "outputs": [
    {
     "name": "stdout",
     "output_type": "stream",
     "text": [
      "| grand_jury_name | Count |\n",
      "| --------------- | ----- |\n",
      "|                 |   129 |\n",
      "| Not brought     |    82 |\n",
      "| No-bill         |    76 |\n",
      "| Indictment      |     2 |\n",
      "\n",
      "List of records where no grand_jury_result chosen:\n",
      "\n",
      "| first_name  | middle_name   | last_name        | reporter |\n",
      "| ----------- | ------------- | ---------------- | -------- |\n",
      "| Weldon      | Davis         | Baker            | ab       |\n",
      "| Derrick     | Anthony       | Birdow           | ab       |\n",
      "| Charles     | Edward        | Boll             | ab       |\n",
      "| Wilber      |               | Castillo-Gongora | ab       |\n",
      "| Jesse       | Andrew        | DeBusk           | ab       |\n",
      "| David       | Mercado       | Gonzalez         | ab       |\n",
      "| Daniel      | Lee           | Guerra           | ab       |\n",
      "| Jonas       |               | Hernandez        | ab       |\n",
      "| Christopher | Stewart       | James            | ab       |\n",
      "| Jorge       |               | Ochoa            | ab       |\n",
      "| Kevin       | Ray           | Omas             | ab       |\n",
      "| Jose        | DeJesus       | Ramirez          | ab       |\n",
      "| Raymond     | Luther        | Allen            | ed       |\n",
      "| Ross        | Allen         | Anthony          | ed       |\n",
      "| John        | Paul          | Bazan            | ed       |\n",
      "| Magnolia    | Lucille       | Blakeman         | ed       |\n",
      "| Roque       |               | Carrizales       | ed       |\n",
      "| Joel        | Don           | Casey            | ed       |\n",
      "| Carolyn     | Jean          | Daniels          | ed       |\n",
      "| Jermaine    | Nicholas      | Darden           | ed       |\n",
      "| Alton       | Gene          | Dragoo           | ed       |\n",
      "| Brady       | Allan         | Dustman          | ed       |\n",
      "| Hector      | Hugo          | Elizondo         | ed       |\n",
      "| Marcus      | Nygel         | Elliott          | ed       |\n",
      "| Gene        | Baraka        | Franklin         | ed       |\n",
      "| David       |               | Garza            | ed       |\n",
      "| Dustin      | Keith         | Glover           | ed       |\n",
      "| Mark        | Anthony       | Gonzales         | ed       |\n",
      "| Mark        | Spotswood     | Green            | ed       |\n",
      "| Eric        | Jay           | Hammock          | ed       |\n",
      "| Steven      | Michael       | Irwin            | ed       |\n",
      "| Michael     | Patrick       | Jacobs           | ed       |\n",
      "| Keith       | Leo           | Jenkins          | ed       |\n",
      "| Jonathan    | Lee           | Johnson          | ed       |\n",
      "| Robert      |               | Lerma            | ed       |\n",
      "| Juan        | Flores        | Lopez            | ed       |\n",
      "| Noah        | Ray           | Lopez            | ed       |\n",
      "| Wesley      | Wayne         | Manning          | ed       |\n",
      "| Dawn        | Nicole        | McLemore         | ed       |\n",
      "| Carl        | James         | O'Neal           | ed       |\n",
      "| Micheal     |               | Olveda           | ed       |\n",
      "| John        | Winston       | Ozuna            | ed       |\n",
      "| Jose        | Ignacio       | Palomo           | ed       |\n",
      "| Johnell     |               | Patrick          | ed       |\n",
      "| Michael     | Louis         | Peden            | ed       |\n",
      "| Juan        | Jose          | Perez            | ed       |\n",
      "| Alexander   |               | Peschard         | ed       |\n",
      "| Elvis       | Joel          | Ramirez          | ed       |\n",
      "| Eric        | Lee           | Ray              | ed       |\n",
      "| Lance       |               | Revalee          | ed       |\n",
      "| Kristoper   |               | Rupe             | ed       |\n",
      "| Teddy       |               | Stranghoener     | ed       |\n",
      "| Lesa        | Ann           | Surratt          | ed       |\n",
      "| Daniel      | Rivera        | Tamez            | ed       |\n",
      "| Anthony     |               | Timpa            | ed       |\n",
      "| Thuan       |               | Tran             | ed       |\n",
      "| Jeffery     | Garlin        | Trotter          | ed       |\n",
      "| Adren       | Maurice       | Turner           | ed       |\n",
      "| Michael     | Corleone      | Villareal        | ed       |\n",
      "| Willie      | Lee           | Washington       | ed       |\n",
      "| Inocencio   | Juarez        | Cardenas         | js       |\n",
      "| Jean        | Yves          | Charles          | js       |\n",
      "| Rodolfo     |               | Cisneros         | js       |\n",
      "| Dougressa   | Elaine        | Crawford         | js       |\n",
      "| Manuel      |               | Delacruz         | js       |\n",
      "| Tyree       | Sinclair      | Edwards          | js       |\n",
      "| Sergio      | Martin        | Garcia           | js       |\n",
      "| Madeline    |               | Garcia           | js       |\n",
      "| Johnny      | Anthony       | Hooper           | js       |\n",
      "| Herman      | George        | Knabe            | js       |\n",
      "| Gilberto    |               | Limon            | js       |\n",
      "| Juan        | Antonio       | Lozano           | js       |\n",
      "| Richard     | Lee           | Parr             | js       |\n",
      "| Mario       | Anthony       | Pedigone         | js       |\n",
      "| Troy        | Marcus        | Stewart          | js       |\n",
      "| Elcide      | Gabriel       | Sylve            | js       |\n",
      "| Noe         |               | Vera             | js       |\n",
      "| Louis       | Jacoby        | Cryer            | tp       |\n",
      "| Rodney      | Earl          | Green            | tp       |\n",
      "| Steven      |               | Hayes            | tp       |\n",
      "| Tyrone      | Ulrich        | Jones            | tp       |\n",
      "| Pedro       | Serifino      | Longoria         | tp       |\n",
      "| Michael     | Andrea        | Martinez         | tp       |\n",
      "| Francisco   | Ray           | Olivarez         | tp       |\n",
      "| David       | Michael       | Pedersen         | tp       |\n",
      "| Jose        |               | Sauceda          | tp       |\n",
      "| Jimmy       | Lloyd         | Washington       | tp       |\n",
      "| Robert      | Earl          | Williams         | tp       |\n",
      "| Sam         |               | Akin             |          |\n",
      "| Timothy     |               | Alfaro           |          |\n",
      "| Osbaldo     | Xavier        | Barrera          |          |\n",
      "| Antonie     | D             | Bell             |          |\n",
      "| Dustin      | Michael       | Brown            |          |\n",
      "| Curtis      | Wayne         | Camille          |          |\n",
      "| Juan        |               | Carrizales       |          |\n",
      "| Michael     | Shea          | Cassel           |          |\n",
      "| Michael     | Anthony       | Charles          |          |\n",
      "| Jerry       | Guildwin      | Choate           |          |\n",
      "| Greg        |               | Cranfill         |          |\n",
      "| Noel        |               | Davila           |          |\n",
      "| Allen       |               | Fenley           |          |\n",
      "| William     | Yendis        | Franklin         |          |\n",
      "| Jami        |               | Gaubatz          |          |\n",
      "| Barney      | Lee           | Green            |          |\n",
      "| Jesse       |               | Guerrero         |          |\n",
      "| Surleslie   | Eugene        | Hall             |          |\n",
      "| Milton      | Heath         | Hill             |          |\n",
      "| Joshua      | Carl          | Ivy              |          |\n",
      "| Michael     | Isaac         | James            |          |\n",
      "| John        | Yongwoo       | Kim              |          |\n",
      "| Larry       | Earl          | Leaks            |          |\n",
      "| Shawn       | Ellis         | Leflore          |          |\n",
      "| Shmekia     | Rena Shyontay | Lewis            |          |\n",
      "| Cory        | Christopher   | Lucero           |          |\n",
      "| Jose        | Luis          | Martinez         |          |\n",
      "| Carlos      |               | Mata             |          |\n",
      "| Miguel      | Alonzo        | Mendoza          |          |\n",
      "| Ernest      | Lane          | Muller           |          |\n",
      "| Casey       | Edward        | Nessing          |          |\n",
      "| Dennis      | Demarcus      | Oatis            |          |\n",
      "| Silviano    |               | Ortiz            |          |\n",
      "| Andre       | Ramon         | Payne            |          |\n",
      "| Joseph      | Anthony       | Pihota           |          |\n",
      "| Johnny      | Curtis        | Reeves           |          |\n",
      "| Efrain      | Agapito       | Sauceda          |          |\n",
      "| Elmore      |               | Segura           |          |\n",
      "| Lorenzo     | Charles       | Stiggers         |          |\n",
      "| Richard     | Joseph        | Verrett          |          |\n",
      "| Billy       |               | Weckar           |          |\n"
     ]
    }
   ],
   "source": [
    "# pivot and print to see values\n",
    "grandjury_pivot = deaths.pivot('grand_jury_name')\n",
    "grandjury_pivot.print_table()\n",
    "\n",
    "# Filter to no grand_jury_result chosen:\n",
    "grandjury_none = deaths.where(lambda row: row['grand_jury_name'] == None)\n",
    "\n",
    "print('\\nList of records where no grand_jury_result chosen:\\n')\n",
    "# print names and reporters where true\n",
    "grandjury_none.select([\n",
    "                'first_name',\n",
    "                'middle_name',\n",
    "                'last_name',\n",
    "                'reporter_assigned']).rename(column_names={'reporter_assigned': 'reporter'})\\\n",
    "               .order_by('last_name').order_by('reporter').print_table(max_rows=None)"
   ]
  },
  {
   "cell_type": "markdown",
   "metadata": {},
   "source": [
    "### Restrained as no or none\n",
    "\n",
    "Checking the restrained field for empty or \"no\" values."
   ]
  },
  {
   "cell_type": "code",
   "execution_count": 8,
   "metadata": {},
   "outputs": [
    {
     "name": "stdout",
     "output_type": "stream",
     "text": [
      "| restrained | Count |\n",
      "| ---------- | ----- |\n",
      "|       True |   289 |\n",
      "\n",
      "Cass where Restrained is not selected\n",
      "\n",
      "| first_name | middle_name | last_name | reporter |\n",
      "| ---------- | ----------- | --------- | -------- |\n",
      "\n",
      "Cass where Restrained is set to False\n",
      "\n",
      "| first_name | middle_name | last_name | reporter |\n",
      "| ---------- | ----------- | --------- | -------- |\n"
     ]
    }
   ],
   "source": [
    "# pivot on restrained to see the number of cases.\n",
    "deaths.pivot('restrained').print_table()\n",
    "\n",
    "# filter for rows were restrained is not selected at all\n",
    "restrained_null = deaths.where(lambda row: row['restrained'] == None)\n",
    "\n",
    "print('\\nCass where Restrained is not selected\\n')\n",
    "restrained_null.select([\n",
    "                'first_name',\n",
    "                'middle_name',\n",
    "                'last_name',\n",
    "                'reporter_assigned']).rename(column_names={'reporter_assigned': 'reporter'}).print_table()\n",
    "\n",
    "# filter for rows were restrained is not selected at all\n",
    "restrained_no = deaths.where(lambda row: row['restrained'] == False)\n",
    "\n",
    "print('\\nCass where Restrained is set to False\\n')\n",
    "restrained_no.select([\n",
    "                'first_name',\n",
    "                'middle_name',\n",
    "                'last_name',\n",
    "                'reporter_assigned']).rename(column_names={'reporter_assigned': 'reporter'}).print_table()\n",
    "\n"
   ]
  },
  {
   "cell_type": "code",
   "execution_count": null,
   "metadata": {},
   "outputs": [],
   "source": []
  }
 ],
 "metadata": {
  "kernelspec": {
   "display_name": "Python 3",
   "language": "python",
   "name": "python3"
  },
  "language_info": {
   "codemirror_mode": {
    "name": "ipython",
    "version": 3
   },
   "file_extension": ".py",
   "mimetype": "text/x-python",
   "name": "python",
   "nbconvert_exporter": "python",
   "pygments_lexer": "ipython3",
   "version": "3.5.4"
  }
 },
 "nbformat": 4,
 "nbformat_minor": 1
}
