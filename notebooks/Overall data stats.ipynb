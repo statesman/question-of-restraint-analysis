{
 "cells": [
  {
   "cell_type": "markdown",
   "metadata": {},
   "source": [
    "# Overall records stats\n",
    "\n",
    "These are stats over the whole data set, with no cuts by any other factor.\n",
    "\n",
    "To process for the latest data, run the [File Processing](./) notebook.\n",
    "\n",
    "## Findings list\n",
    "- [Cases over time](#Cases-over-time)\n",
    "- [Deaths by race](#Deaths-by-race)\n",
    "- [Deaths by manner of death](#Deaths-by-manner-of-death)\n",
    "- [Mental Health cases](#Mental-health-related-cases)\n"
   ]
  },
  {
   "cell_type": "code",
   "execution_count": 1,
   "metadata": {},
   "outputs": [],
   "source": [
    "import agate\n",
    "import datetime\n",
    "import warnings\n",
    "warnings.filterwarnings('ignore')"
   ]
  },
  {
   "cell_type": "markdown",
   "metadata": {},
   "source": [
    "## Get the data"
   ]
  },
  {
   "cell_type": "code",
   "execution_count": 2,
   "metadata": {},
   "outputs": [
    {
     "name": "stdout",
     "output_type": "stream",
     "text": [
      "| column               | data_type |\n",
      "| -------------------- | --------- |\n",
      "| id                   | Number    |\n",
      "| ag_report_url        | Text      |\n",
      "| first_name           | Text      |\n",
      "| middle_name          | Text      |\n",
      "| last_name            | Text      |\n",
      "| suffix               | Text      |\n",
      "| slug                 | Text      |\n",
      "| race                 | Text      |\n",
      "| gender               | Text      |\n",
      "| date_of_birth        | Date      |\n",
      "| date_of_death        | Date      |\n",
      "| age                  | Number    |\n",
      "| agency               | Number    |\n",
      "| restrained           | Boolean   |\n",
      "| tazed                | Boolean   |\n",
      "| times_tazed          | Number    |\n",
      "| pepper_sprayed       | Boolean   |\n",
      "| official_discipline  | Text      |\n",
      "| grand_jury_result    | Text      |\n",
      "| mental_health_issues | Boolean   |\n",
      "| manner_of_death      | Text      |\n",
      "| drug_intoxication    | Boolean   |\n",
      "| cause_of_death       | Text      |\n",
      "| tracked_cause        | Text      |\n",
      "| offense              | Text      |\n",
      "| investigation        | Text      |\n",
      "| notes                | Text      |\n",
      "| ag_summary           | Text      |\n",
      "| reporter_assigned    | Text      |\n",
      "| record_status        | Text      |\n",
      "| case_study           | Text      |\n",
      "| story_summary        | Text      |\n",
      "| photo                | Text      |\n",
      "| cropping             | Number    |\n",
      "| race_name            | Text      |\n",
      "| manner_name          | Text      |\n",
      "| grand_jury_name      | Text      |\n",
      "| discipline_name      | Text      |\n",
      "\n"
     ]
    }
   ],
   "source": [
    "# sets data types on fields agate got wrong\n",
    "specified_data_types = {\n",
    "    'tracked_cause': agate.Text(),\n",
    "    'offense': agate.Text(),\n",
    "    'case_study': agate.Text(),\n",
    "    'official_discipline': agate.Text()\n",
    "}\n",
    "\n",
    "# this pulls the deaths file that is exported in the File processing notebook\n",
    "deaths = agate.Table.from_csv('../exports/deaths_latest.csv', column_types=specified_data_types)\n",
    "\n",
    "print(deaths)"
   ]
  },
  {
   "cell_type": "markdown",
   "metadata": {},
   "source": [
    "## Cases over time"
   ]
  },
  {
   "cell_type": "code",
   "execution_count": 3,
   "metadata": {},
   "outputs": [
    {
     "name": "stdout",
     "output_type": "stream",
     "text": [
      "Total deaths: 289\n",
      "\n",
      "Cases by year:\n",
      "\n",
      "| Year | Count |\n",
      "| ---- | ----- |\n",
      "| 2005 |    20 |\n",
      "| 2006 |    37 |\n",
      "| 2007 |    37 |\n",
      "| 2008 |    19 |\n",
      "| 2009 |    20 |\n",
      "| 2010 |    20 |\n",
      "| 2011 |    26 |\n",
      "| 2012 |    16 |\n",
      "| 2013 |    21 |\n",
      "| 2014 |    25 |\n",
      "| 2015 |    38 |\n",
      "| 2016 |    10 |\n",
      "\n",
      "Chart by year:\n",
      "\n",
      "Year Count\n",
      "2005    20 ▓░░░░░░░░░░░░░░░░░░░░░░░░                        \n",
      "2006    37 ▓░░░░░░░░░░░░░░░░░░░░░░░░░░░░░░░░░░░░░░░░░░░░    \n",
      "2007    37 ▓░░░░░░░░░░░░░░░░░░░░░░░░░░░░░░░░░░░░░░░░░░░░    \n",
      "2008    19 ▓░░░░░░░░░░░░░░░░░░░░░░░                         \n",
      "2009    20 ▓░░░░░░░░░░░░░░░░░░░░░░░░                        \n",
      "2010    20 ▓░░░░░░░░░░░░░░░░░░░░░░░░                        \n",
      "2011    26 ▓░░░░░░░░░░░░░░░░░░░░░░░░░░░░░░░                 \n",
      "2012    16 ▓░░░░░░░░░░░░░░░░░░░                             \n",
      "2013    21 ▓░░░░░░░░░░░░░░░░░░░░░░░░░                       \n",
      "2014    25 ▓░░░░░░░░░░░░░░░░░░░░░░░░░░░░░░                  \n",
      "2015    38 ▓░░░░░░░░░░░░░░░░░░░░░░░░░░░░░░░░░░░░░░░░░░░░░░  \n",
      "2016    10 ▓░░░░░░░░░░░░                                    \n",
      "           +-----------+-----------+-----------+-----------+\n",
      "           0          10          20          30          40\n",
      "\n",
      "SVG Chart by year:\n",
      "\n"
     ]
    },
    {
     "data": {
      "image/svg+xml": [
       "<svg height=\"600\" version=\"1.1\" width=\"800\" xmlns=\"http://www.w3.org/2000/svg\"><g><rect fill=\"#f9f9f9\" height=\"600\" width=\"800\" x=\"0\" y=\"0\"/><g transform=\"translate(40 40)\"><g transform=\"translate(54 0)\"/><g transform=\"translate(0 0)\"><g transform=\"translate(54 0)\"><g class=\"axis bottom\"><text dy=\"1em\" fill=\"#666\" font-family=\"Monaco\" text-anchor=\"middle\" transform=\"\" x=\"333.0\" y=\"506.0\">Year</text><g class=\"tick\"><line stroke=\"#eee\" stroke-width=\"1\" x1=\"27.75\" x2=\"27.75\" y1=\"0\" y2=\"472.0\"/><text dy=\"1em\" fill=\"#9c9c9c\" font-family=\"Monaco\" text-anchor=\"middle\" x=\"27.75\" y=\"476.0\">2005</text></g><g class=\"tick\"><line stroke=\"#eee\" stroke-width=\"1\" x1=\"83.25\" x2=\"83.25\" y1=\"0\" y2=\"472.0\"/><text dy=\"1em\" fill=\"#9c9c9c\" font-family=\"Monaco\" text-anchor=\"middle\" x=\"83.25\" y=\"476.0\">2006</text></g><g class=\"tick\"><line stroke=\"#eee\" stroke-width=\"1\" x1=\"138.75\" x2=\"138.75\" y1=\"0\" y2=\"472.0\"/><text dy=\"1em\" fill=\"#9c9c9c\" font-family=\"Monaco\" text-anchor=\"middle\" x=\"138.75\" y=\"476.0\">2007</text></g><g class=\"tick\"><line stroke=\"#eee\" stroke-width=\"1\" x1=\"194.25\" x2=\"194.25\" y1=\"0\" y2=\"472.0\"/><text dy=\"1em\" fill=\"#9c9c9c\" font-family=\"Monaco\" text-anchor=\"middle\" x=\"194.25\" y=\"476.0\">2008</text></g><g class=\"tick\"><line stroke=\"#eee\" stroke-width=\"1\" x1=\"249.75\" x2=\"249.75\" y1=\"0\" y2=\"472.0\"/><text dy=\"1em\" fill=\"#9c9c9c\" font-family=\"Monaco\" text-anchor=\"middle\" x=\"249.75\" y=\"476.0\">2009</text></g><g class=\"tick\"><line stroke=\"#eee\" stroke-width=\"1\" x1=\"305.25\" x2=\"305.25\" y1=\"0\" y2=\"472.0\"/><text dy=\"1em\" fill=\"#9c9c9c\" font-family=\"Monaco\" text-anchor=\"middle\" x=\"305.25\" y=\"476.0\">2010</text></g><g class=\"tick\"><line stroke=\"#eee\" stroke-width=\"1\" x1=\"360.75\" x2=\"360.75\" y1=\"0\" y2=\"472.0\"/><text dy=\"1em\" fill=\"#9c9c9c\" font-family=\"Monaco\" text-anchor=\"middle\" x=\"360.75\" y=\"476.0\">2011</text></g><g class=\"tick\"><line stroke=\"#eee\" stroke-width=\"1\" x1=\"416.25\" x2=\"416.25\" y1=\"0\" y2=\"472.0\"/><text dy=\"1em\" fill=\"#9c9c9c\" font-family=\"Monaco\" text-anchor=\"middle\" x=\"416.25\" y=\"476.0\">2012</text></g><g class=\"tick\"><line stroke=\"#eee\" stroke-width=\"1\" x1=\"471.75\" x2=\"471.75\" y1=\"0\" y2=\"472.0\"/><text dy=\"1em\" fill=\"#9c9c9c\" font-family=\"Monaco\" text-anchor=\"middle\" x=\"471.75\" y=\"476.0\">2013</text></g><g class=\"tick\"><line stroke=\"#eee\" stroke-width=\"1\" x1=\"527.25\" x2=\"527.25\" y1=\"0\" y2=\"472.0\"/><text dy=\"1em\" fill=\"#9c9c9c\" font-family=\"Monaco\" text-anchor=\"middle\" x=\"527.25\" y=\"476.0\">2014</text></g><g class=\"tick\"><line stroke=\"#eee\" stroke-width=\"1\" x1=\"582.75\" x2=\"582.75\" y1=\"0\" y2=\"472.0\"/><text dy=\"1em\" fill=\"#9c9c9c\" font-family=\"Monaco\" text-anchor=\"middle\" x=\"582.75\" y=\"476.0\">2015</text></g><g class=\"tick\"><line stroke=\"#eee\" stroke-width=\"1\" x1=\"638.25\" x2=\"638.25\" y1=\"0\" y2=\"472.0\"/><text dy=\"1em\" fill=\"#9c9c9c\" font-family=\"Monaco\" text-anchor=\"middle\" x=\"638.25\" y=\"476.0\">2016</text></g></g><g class=\"axis left\"><text dy=\"\" fill=\"#666\" font-family=\"Monaco\" text-anchor=\"middle\" transform=\"rotate(270 -32 234)\" x=\"-32\" y=\"234.0\">Count</text><g class=\"tick\"><line stroke=\"#eee\" stroke-width=\"1\" x1=\"-4\" x2=\"666.0\" y1=\"351.00\" y2=\"351.00\"/><text dy=\"0.32em\" fill=\"#9c9c9c\" font-family=\"Monaco\" text-anchor=\"end\" x=\"-8\" y=\"351.00\">10</text></g><g class=\"tick\"><line stroke=\"#eee\" stroke-width=\"1\" x1=\"-4\" x2=\"666.0\" y1=\"234.0\" y2=\"234.0\"/><text dy=\"0.32em\" fill=\"#9c9c9c\" font-family=\"Monaco\" text-anchor=\"end\" x=\"-8\" y=\"234.0\">20</text></g><g class=\"tick\"><line stroke=\"#eee\" stroke-width=\"1\" x1=\"-4\" x2=\"666.0\" y1=\"117.00\" y2=\"117.00\"/><text dy=\"0.32em\" fill=\"#9c9c9c\" font-family=\"Monaco\" text-anchor=\"end\" x=\"-8\" y=\"117.00\">30</text></g><g class=\"tick\"><line stroke=\"#eee\" stroke-width=\"1\" x1=\"-4\" x2=\"666.0\" y1=\"0\" y2=\"0\"/><text dy=\"0.32em\" fill=\"#9c9c9c\" font-family=\"Monaco\" text-anchor=\"end\" x=\"-8\" y=\"0\">40</text></g><g class=\"tick\"><line stroke=\"#a8a8a8\" stroke-width=\"1\" x1=\"-4\" x2=\"666.0\" y1=\"468\" y2=\"468\"/><text dy=\"0.32em\" fill=\"#9c9c9c\" font-family=\"Monaco\" text-anchor=\"end\" x=\"-8\" y=\"468\">0</text></g></g><g><g class=\"series columns\"><rect fill=\"#e41a1c\" height=\"234.0\" width=\"49.950\" x=\"2.775\" y=\"234.0\"/><rect fill=\"#e41a1c\" height=\"432.900\" width=\"49.950\" x=\"58.275\" y=\"35.100\"/><rect fill=\"#e41a1c\" height=\"432.900\" width=\"49.950\" x=\"113.775\" y=\"35.100\"/><rect fill=\"#e41a1c\" height=\"222.300\" width=\"49.950\" x=\"169.275\" y=\"245.700\"/><rect fill=\"#e41a1c\" height=\"234.0\" width=\"49.950\" x=\"224.775\" y=\"234.0\"/><rect fill=\"#e41a1c\" height=\"234.0\" width=\"49.950\" x=\"280.275\" y=\"234.0\"/><rect fill=\"#e41a1c\" height=\"304.20\" width=\"49.950\" x=\"335.775\" y=\"163.80\"/><rect fill=\"#e41a1c\" height=\"187.2\" width=\"49.950\" x=\"391.275\" y=\"280.8\"/><rect fill=\"#e41a1c\" height=\"245.700\" width=\"49.950\" x=\"446.775\" y=\"222.300\"/><rect fill=\"#e41a1c\" height=\"292.500\" width=\"49.950\" x=\"502.275\" y=\"175.500\"/><rect fill=\"#e41a1c\" height=\"444.60\" width=\"49.950\" x=\"557.775\" y=\"23.40\"/><rect fill=\"#e41a1c\" height=\"117.00\" width=\"49.950\" x=\"613.275\" y=\"351.00\"/></g></g></g></g></g></g></svg>"
      ],
      "text/plain": [
       "<IPython.core.display.SVG object>"
      ]
     },
     "execution_count": 3,
     "metadata": {},
     "output_type": "execute_result"
    }
   ],
   "source": [
    "# Add a year column to the data set\n",
    "deaths_year = deaths.compute([\n",
    "    ('Year', agate.Formula(agate.Text(), lambda r: r['date_of_death'].year))\n",
    "])\n",
    "\n",
    "# pivot the death_year table on year\n",
    "deaths_year_pivot = deaths_year.pivot('Year').order_by('Year')\n",
    "\n",
    "# get and print total number of cases\n",
    "deaths_total_count = len(deaths)\n",
    "print('Total deaths: {}\\n'.format(deaths_total_count))\n",
    "\n",
    "# print simple table by year\n",
    "print('Cases by year:\\n')\n",
    "deaths_year_pivot.print_table()\n",
    "\n",
    "# print bar chart of cases by year\n",
    "print('\\nChart by year:\\n')\n",
    "deaths_year_pivot.print_bars('Year', 'Count', width=60)\n",
    "\n",
    "# export data for csv\n",
    "deaths_year_pivot.to_csv('../exports/deaths_year_pivot.csv')\n",
    "\n",
    "# export svg of cases by years\n",
    "deaths_year_pivot.column_chart('Year', 'Count', '../charts/deaths_year_pivot.svg')\n",
    "\n",
    "# svg to screen of cases by  years\n",
    "print('\\nSVG Chart by year:\\n')\n",
    "deaths_year_pivot.column_chart('Year', 'Count')\n"
   ]
  },
  {
   "cell_type": "markdown",
   "metadata": {},
   "source": [
    "## Deaths by race"
   ]
  },
  {
   "cell_type": "code",
   "execution_count": 4,
   "metadata": {},
   "outputs": [
    {
     "name": "stdout",
     "output_type": "stream",
     "text": [
      "Breakdown of the total cases (289) by race:\n",
      "\n",
      "| race_name       | Count |\n",
      "| --------------- | ----- |\n",
      "| White           |    93 |\n",
      "| Black           |   101 |\n",
      "| Hispanic/Latino |    91 |\n",
      "| Asian           |     4 |\n",
      "\n",
      "Simple chart of total cases (289) by race:\n",
      "\n",
      "race_name       Count\n",
      "White              93 ▓░░░░░░░░░░░░░░░░░                    \n",
      "Black             101 ▓░░░░░░░░░░░░░░░░░░░                  \n",
      "Hispanic/Latino    91 ▓░░░░░░░░░░░░░░░░░                    \n",
      "Asian               4 ▓░                                    \n",
      "                      +--------+--------+---------+--------+\n",
      "                      0       50       100       150     200\n"
     ]
    }
   ],
   "source": [
    "# pivot deaths by race\n",
    "race_pivot = deaths.pivot('race_name')\n",
    "\n",
    "# print the table\n",
    "print('Breakdown of the total cases ({}) by race:\\n'.format(\n",
    "    deaths_total_count))\n",
    "race_pivot.print_table()\n",
    "\n",
    "# export to csv?\n",
    "race_pivot.to_csv('../exports/deaths_race_pivot.csv')\n",
    "\n",
    "print('\\nSimple chart of total cases ({}) by race:\\n'.format(\n",
    "    deaths_total_count\n",
    "    ))\n",
    "# print bar chart of pivot\n",
    "race_pivot.print_bars('race_name', 'Count', width=60)"
   ]
  },
  {
   "cell_type": "markdown",
   "metadata": {
    "collapsed": true
   },
   "source": [
    "## Deaths by manner of death"
   ]
  },
  {
   "cell_type": "code",
   "execution_count": 5,
   "metadata": {},
   "outputs": [
    {
     "name": "stdout",
     "output_type": "stream",
     "text": [
      "Total cases (289) broken down by manner of death:\n",
      "\n",
      "| manner_name  | Count |\n",
      "| ------------ | ----- |\n",
      "| Accident     |   150 |\n",
      "| Natural      |    21 |\n",
      "|              |    25 |\n",
      "| Undetermined |    16 |\n",
      "| Homicide     |    77 |\n",
      "\n",
      "Simple for manner of death:\n",
      "\n",
      "manner_name  Count\n",
      "Accident       150 ▓░░░░░░░░░░░░░░░░░░░░░░░░░░░░░░          \n",
      "Natural         21 ▓░░░░                                    \n",
      "None            25 ▓░░░░░                                   \n",
      "Undetermined    16 ▓░░░                                     \n",
      "Homicide        77 ▓░░░░░░░░░░░░░░░                         \n",
      "                   +---------+---------+---------+---------+\n",
      "                   0        50        100       150      200\n"
     ]
    }
   ],
   "source": [
    "# pivot based on the manner\n",
    "manner_pivot = deaths.pivot('manner_name')\n",
    "\n",
    "# print chart of the results\n",
    "print('Total cases ({}) broken down by manner of death:\\n'.format(\n",
    "    deaths_total_count))\n",
    "manner_pivot.print_table()\n",
    "\n",
    "# print bar chart of pivot\n",
    "print('\\nSimple for manner of death:\\n')\n",
    "manner_pivot.print_bars('manner_name', 'Count', width=60)\n",
    "\n",
    "# export the manner of death by year\n",
    "manner_pivot.to_csv('../exports/deaths_manner_pivot.csv')"
   ]
  },
  {
   "cell_type": "markdown",
   "metadata": {
    "collapsed": true
   },
   "source": [
    "## Mental health-related cases\n",
    "\n",
    "Just getting the number of cases where we know there were mental health complications based on documents or reporting. This is based on the **`mental_health_issues`** field."
   ]
  },
  {
   "cell_type": "code",
   "execution_count": 6,
   "metadata": {},
   "outputs": [
    {
     "data": {
      "text/plain": [
       "34"
      ]
     },
     "execution_count": 6,
     "metadata": {},
     "output_type": "execute_result"
    }
   ],
   "source": [
    "deaths.aggregate(agate.Count('mental_health_issues', True))"
   ]
  }
 ],
 "metadata": {
  "kernelspec": {
   "display_name": "Python 3",
   "language": "python",
   "name": "python3"
  },
  "language_info": {
   "codemirror_mode": {
    "name": "ipython",
    "version": 3
   },
   "file_extension": ".py",
   "mimetype": "text/x-python",
   "name": "python",
   "nbconvert_exporter": "python",
   "pygments_lexer": "ipython3",
   "version": "3.5.4"
  }
 },
 "nbformat": 4,
 "nbformat_minor": 1
}
