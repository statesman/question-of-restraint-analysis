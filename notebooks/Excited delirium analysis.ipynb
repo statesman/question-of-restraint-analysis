{
 "cells": [
  {
   "cell_type": "markdown",
   "metadata": {},
   "source": [
    "# Excited delirium analysis\n",
    "\n",
    "Looking at case involving the offical cause of death called Excited delirium. This relates to the story [In fatal struggles with police, a controversial killer is often blamed](http://www.mystatesman.com/news/state--regional/fatal-struggles-with-police-controversial-killer-often-blamed/5NAcIthmQubqObTSDnVdKI/)\n",
    "\n",
    "The field to look at is **`cause_of_death`**, where the ID for [Excited delirium is 1](http://data.statesman.com/admin/custody_deaths/cause/1/change/).\n",
    "\n",
    "## Findings\n",
    "\n",
    "- [Excited delirium as cause of death](#Excited-delirium-as-cause-of-death)\n",
    "- [Excited delirium cases by year](#Excited-delirium-cases-by-year)\n",
    "- [Excited delirium cases by race](#Excited-delirium-cases-by-race)\n",
    "- [Other 'delirium' cases](#Other-delirium-causes)\n",
    "\n",
    "  - compare to overall (available in [Overall data stats](https://github.com/statesman/custody-deaths-analysis/blob/master/notebooks/Overall%20data%20stats.ipynb))\n",
    "\n",
    "\n"
   ]
  },
  {
   "cell_type": "code",
   "execution_count": 1,
   "metadata": {},
   "outputs": [],
   "source": [
    "# imports\n",
    "import agate\n",
    "import re\n",
    "import warnings\n",
    "warnings.filterwarnings('ignore')"
   ]
  },
  {
   "cell_type": "markdown",
   "metadata": {},
   "source": [
    "## Get and set up the data\n",
    "\n",
    "Browse data sets available then import deaths."
   ]
  },
  {
   "cell_type": "markdown",
   "metadata": {},
   "source": [
    "### Import main table"
   ]
  },
  {
   "cell_type": "code",
   "execution_count": 2,
   "metadata": {},
   "outputs": [
    {
     "name": "stdout",
     "output_type": "stream",
     "text": [
      "| column               | data_type |\n",
      "| -------------------- | --------- |\n",
      "| id                   | Number    |\n",
      "| ag_report_url        | Text      |\n",
      "| first_name           | Text      |\n",
      "| middle_name          | Text      |\n",
      "| last_name            | Text      |\n",
      "| suffix               | Text      |\n",
      "| slug                 | Text      |\n",
      "| race                 | Text      |\n",
      "| gender               | Text      |\n",
      "| date_of_birth        | Date      |\n",
      "| date_of_death        | Date      |\n",
      "| age                  | Number    |\n",
      "| agency               | Number    |\n",
      "| restrained           | Boolean   |\n",
      "| tazed                | Boolean   |\n",
      "| times_tazed          | Number    |\n",
      "| pepper_sprayed       | Boolean   |\n",
      "| official_discipline  | Text      |\n",
      "| grand_jury_result    | Text      |\n",
      "| mental_health_issues | Boolean   |\n",
      "| manner_of_death      | Text      |\n",
      "| drug_intoxication    | Boolean   |\n",
      "| cause_of_death       | Text      |\n",
      "| tracked_cause        | Text      |\n",
      "| offense              | Text      |\n",
      "| investigation        | Text      |\n",
      "| notes                | Text      |\n",
      "| ag_summary           | Text      |\n",
      "| reporter_assigned    | Text      |\n",
      "| record_status        | Text      |\n",
      "| case_study           | Text      |\n",
      "| story_summary        | Text      |\n",
      "| photo                | Text      |\n",
      "| cropping             | Number    |\n",
      "| race_name            | Text      |\n",
      "| manner_name          | Text      |\n",
      "| grand_jury_name      | Text      |\n",
      "| discipline_name      | Text      |\n",
      "\n"
     ]
    }
   ],
   "source": [
    "# sets data types on fields agate got wrong\n",
    "specified_data_types = {\n",
    "    'tracked_cause': agate.Text(),\n",
    "    'offense': agate.Text(),\n",
    "    'case_study': agate.Text(),\n",
    "    'official_discipline': agate.Text()\n",
    "}\n",
    "\n",
    "# this pulls the deaths file that is exported in the File processing notebook\n",
    "deaths = agate.Table.from_csv('../exports/deaths_latest.csv', column_types=specified_data_types)\n",
    "\n",
    "print(deaths)"
   ]
  },
  {
   "cell_type": "markdown",
   "metadata": {},
   "source": [
    "### Function to parse tracked_cause"
   ]
  },
  {
   "cell_type": "code",
   "execution_count": 3,
   "metadata": {
    "scrolled": false
   },
   "outputs": [],
   "source": [
    "# functon to check if tracked_cause includes 1 - Excited delirium\n",
    "ed = ['1']\n",
    "\n",
    "# This is the evaluation function, used to compare offenses in a row\n",
    "# to the list those that include excited delirium.\n",
    "def parse_tracked_cause(row):\n",
    "    if row is None:\n",
    "        return False\n",
    "    myList = row.split(',')\n",
    "    for item in myList:\n",
    "        if item in ed:\n",
    "            return True\n",
    "\n"
   ]
  },
  {
   "cell_type": "markdown",
   "metadata": {},
   "source": [
    "## Excited delirium as cause of death"
   ]
  },
  {
   "cell_type": "code",
   "execution_count": 4,
   "metadata": {},
   "outputs": [
    {
     "name": "stdout",
     "output_type": "stream",
     "text": [
      "Number of deaths that are Excited delirium: 50\n",
      "\n",
      "| first_name  | middle_name | last_name | date_of_death | tracked_cause |\n",
      "| ----------- | ----------- | --------- | ------------- | ------------- |\n",
      "| Curtis      | Lee         | Lewis     |    2005-01-10 | 1,2           |\n",
      "| Hector      |             | Rodriguez |    2005-05-07 | 1             |\n",
      "| Joseph      |             | Cain      |    2005-05-17 | 1             |\n",
      "| Al          | Dwaun       | Jackson   |    2005-06-06 | 1             |\n",
      "| Robert      | Earl        | Williams  |    2005-06-14 | 1,36          |\n",
      "| Gilberto    |             | Limon     |    2005-09-19 | 1             |\n",
      "| Carl        | James       | O'Neal    |    2005-11-10 | 1             |\n",
      "| Charles     | Edward      | Boll      |    2005-11-14 | 1             |\n",
      "| Joe         | Ernest      | Ramos     |    2006-01-27 | 1             |\n",
      "| Jose        |             | Romero    |    2006-04-24 | 1,36          |\n",
      "| Ben         | Tarell      | Miller    |    2006-05-19 | 1             |\n",
      "| Dashaun     | H.          | Pearson   |    2006-05-20 | 1             |\n",
      "| Michael     | Anthony     | Solis     |    2006-05-28 | 1             |\n",
      "| Carl        | Lee         | Kelley    |    2006-07-02 | 1             |\n",
      "| Johnny      | Jimmy       | Robles    |    2006-07-08 | 1             |\n",
      "| Sergio      | Martin      | Garcia    |    2006-07-29 | 1             |\n",
      "| Juan        | Antonio     | Lozano    |    2006-08-13 | 1             |\n",
      "| Elcide      | Gabriel     | Sylve     |    2006-08-25 | 1             |\n",
      "| Robert      |             | Lerma     |    2006-10-15 | 1             |\n",
      "| Michael     | Dean        | Ford      |    2006-11-11 | 1             |\n",
      "| Francisco   | Ray         | Olivarez  |    2007-01-12 | 1             |\n",
      "| Sergio      |             | Galvan    |    2007-03-23 | 1             |\n",
      "| Paul        |             | Rodriguez |    2007-03-26 | 1,2           |\n",
      "| Micheal     |             | Olveda    |    2007-05-17 | 1             |\n",
      "| Frank       | Timothy     | Benavides |    2007-06-13 | 1             |\n",
      "| Aladino     |             | Trejo     |    2007-07-27 | 1             |\n",
      "| Noe         |             | Vera      |    2007-08-10 | 1             |\n",
      "| Jorge       |             | Ochoa     |    2007-08-28 | 1             |\n",
      "| Donald      | Wayne       | Jacobs    |    2007-09-17 | 1,2           |\n",
      "| Rodolfo     |             | Cisneros  |    2008-06-08 | 1             |\n",
      "| Corey       | Dean        | Bailey    |    2008-06-27 | 1,2           |\n",
      "| Richard     |             | Smith     |    2008-07-24 | 1,2           |\n",
      "| Jamaal      | Ray         | Valentine |    2009-05-17 | 1             |\n",
      "| Michael     |             | McKnight  |    2009-08-01 | 1,2           |\n",
      "| Michael     | Shunn       | Roberson  |    2011-04-15 | 1             |\n",
      "| Jesse       |             | Guerrero  |    2011-07-20 | 1             |\n",
      "| Pierre      | Tourell     | Abernathy |    2011-08-04 | 1             |\n",
      "| Tyree       | Sinclair    | Edwards   |    2011-09-11 | 1             |\n",
      "| Shane       | Weston      | Cook      |    2011-09-17 | 1             |\n",
      "| Christopher | Marshall    | Monroe    |    2011-10-18 | 1,2           |\n",
      "| Raymond     | Luther      | Allen     |    2012-02-29 | 1,2           |\n",
      "| David       |             | Garza     |    2012-12-14 | 1,2           |\n",
      "| Juan        | Marcos      | Gonzalez  |    2013-03-15 | 1             |\n",
      "| Bobby       | Joe         | Madewell  |    2013-03-21 | 1,2           |\n",
      "| Jesse       |             | Aguirre   |    2013-04-12 | 1             |\n",
      "| Stacy       | Zimbalist   | Golston   |    2013-06-27 | 1             |\n",
      "| Michael     | Louis       | Peden     |    2014-01-19 | 1             |\n",
      "| Mario       |             | Evans     |    2014-03-01 | 1,2           |\n",
      "| Silvestre   |             | Garcia    |    2015-08-30 | 1             |\n",
      "| Wesley      | Wayne       | Manning   |    2015-09-29 | 1,2           |\n"
     ]
    }
   ],
   "source": [
    "# this filters our death_offenses table based on the \n",
    "# value we are looking for in the column we are looking\n",
    "deaths_ed = deaths.where(lambda row: parse_tracked_cause(row['tracked_cause']))\n",
    "\n",
    "# Number of deaths that are Excited delirium\n",
    "print('Number of deaths that are Excited delirium: {}\\n'.format(\n",
    "        len(deaths_ed))\n",
    "      )\n",
    "\n",
    "# prints the deaths with just minor offenses\n",
    "deaths_ed.select(['first_name',\n",
    "                  'middle_name',\n",
    "                  'last_name',\n",
    "                  'date_of_death',\n",
    "                  'tracked_cause']).order_by('date_of_death').print_table(max_rows=None)\n"
   ]
  },
  {
   "cell_type": "markdown",
   "metadata": {},
   "source": [
    "## Excited delirium cases by year"
   ]
  },
  {
   "cell_type": "code",
   "execution_count": 5,
   "metadata": {},
   "outputs": [
    {
     "name": "stdout",
     "output_type": "stream",
     "text": [
      "Year Count\n",
      "2005     8 ▓░░░░░░░░░░░░░░░░░░░                             \n",
      "2006    12 ▓░░░░░░░░░░░░░░░░░░░░░░░░░░░░░                   \n",
      "2007     9 ▓░░░░░░░░░░░░░░░░░░░░░░                          \n",
      "2008     3 ▓░░░░░░░                                         \n",
      "2009     2 ▓░░░░░                                           \n",
      "2011     6 ▓░░░░░░░░░░░░░░                                  \n",
      "2012     2 ▓░░░░░                                           \n",
      "2013     4 ▓░░░░░░░░░░                                      \n",
      "2014     2 ▓░░░░░                                           \n",
      "2015     2 ▓░░░░░                                           \n",
      "           +-----------+-----------+-----------+-----------+\n",
      "           0           5          10          15          20\n"
     ]
    }
   ],
   "source": [
    "# add a year column based on year of date_of_death\n",
    "deaths_ed_year = deaths_ed.compute([\n",
    "    ('Year', agate.Formula(agate.Text(), lambda r: r['date_of_death'].year))\n",
    "])\n",
    "\n",
    "# pivot based on year\n",
    "deaths_ed_year_pivot = deaths_ed_year.pivot('Year').order_by('Year')\n",
    "\n",
    "# print the pivot as bars\n",
    "deaths_ed_year_pivot.print_bars('Year', 'Count', width=60)"
   ]
  },
  {
   "cell_type": "markdown",
   "metadata": {},
   "source": [
    "## Excited delirium cases by race"
   ]
  },
  {
   "cell_type": "code",
   "execution_count": 6,
   "metadata": {},
   "outputs": [
    {
     "name": "stdout",
     "output_type": "stream",
     "text": [
      "Excited delirium race breakdown\n",
      "\n",
      "| race_name       | Count |\n",
      "| --------------- | ----- |\n",
      "| Black           |    19 |\n",
      "| Hispanic/Latino |    23 |\n",
      "| White           |     8 |\n",
      "\n",
      "Excited delirium race breakdown: Bars\n",
      "\n",
      "race_name       Count\n",
      "Black              19 ▓░░░░                                 \n",
      "Hispanic/Latino    23 ▓░░░░                                 \n",
      "White               8 ▓░                                    \n",
      "                      +--------+--------+---------+--------+\n",
      "                      0       50       100       150     200\n",
      "\n",
      "Compare to overall race breakdown\n",
      "\n",
      "race_name       Count\n",
      "White              93 ▓░░░░░░░░░░░░░░░░░                    \n",
      "Black             101 ▓░░░░░░░░░░░░░░░░░░░                  \n",
      "Hispanic/Latino    91 ▓░░░░░░░░░░░░░░░░░                    \n",
      "Asian               4 ▓░                                    \n",
      "                      +--------+--------+---------+--------+\n",
      "                      0       50       100       150     200\n",
      "\n",
      "Compare percentage of blacks in ED cohort vs overall, based on total 289 cases.\n",
      "\n",
      "Percent of blacks:\n",
      " Excited delirium cohort: 38.0%\n",
      " Overall: 34.9%\n",
      "\n",
      "Percent of Latinos:\n",
      " Excited delirium cohort: 46.0%\n",
      " Overall: 31.5%\n",
      "\n",
      "Percent of whites:\n",
      " Excited delirium cohort: 16.0%\n",
      " Overall: 32.2%\n",
      "\n",
      "Percent minority:\n",
      " Excited delirium cohort: 84.0%\n",
      " Overall: 66.4%\n",
      "\n"
     ]
    }
   ],
   "source": [
    "# pivot deaths_ed by race_name\n",
    "deaths_ed_pivot = deaths_ed.pivot('race_name').order_by('race_name')\n",
    "\n",
    "# print table of pivot\n",
    "print('Excited delirium race breakdown\\n')\n",
    "deaths_ed_pivot.print_table()\n",
    "\n",
    "# print chart based on excited delirium by race\n",
    "print('\\nExcited delirium race breakdown: Bars\\n')\n",
    "deaths_ed_pivot.print_bars('race_name',\n",
    "                           'Count',\n",
    "                           width=60,\n",
    "                           domain=['0', '200'])\n",
    "\n",
    "print('\\nCompare to overall race breakdown\\n')\n",
    "# pivot deaths by race\n",
    "race_pivot = deaths.pivot('race_name')\n",
    "\n",
    "# print bar chart of pivot\n",
    "race_pivot.print_bars('race_name',\n",
    "                      'Count',\n",
    "                      width=60,\n",
    "                      domain=['0', '200'])\n",
    "\n",
    "\n",
    "print('\\nCompare percentage of blacks in ED cohort vs overall, based on total {} cases.\\n'.format(\n",
    "        len(deaths)\n",
    "    ))\n",
    "\n",
    "# percent of ed cohort that is black\n",
    "black_ed_count = deaths_ed.aggregate(agate.Count('race', 'b'))\n",
    "black_count = deaths.aggregate(agate.Count('race', 'b'))\n",
    "\n",
    "print('Percent of blacks:\\n Excited delirium cohort: {:.1%}\\n Overall: {:.1%}\\n'.format(\n",
    "        black_ed_count / len(deaths_ed),\n",
    "        black_count / len(deaths)\n",
    "    ))\n",
    "\n",
    "# percent of ed cohort that is latino\n",
    "latino_ed_count = deaths_ed.aggregate(agate.Count('race', 'h'))\n",
    "latino_count = deaths.aggregate(agate.Count('race', 'h'))\n",
    "\n",
    "print('Percent of Latinos:\\n Excited delirium cohort: {:.1%}\\n Overall: {:.1%}\\n'.format(\n",
    "        latino_ed_count / len(deaths_ed),\n",
    "        latino_count / len(deaths)\n",
    "    ))\n",
    "\n",
    "# percent of ed cohort that is white\n",
    "white_ed_count = deaths_ed.aggregate(agate.Count('race', 'w'))\n",
    "white_count = deaths.aggregate(agate.Count('race', 'w'))\n",
    "\n",
    "print('Percent of whites:\\n Excited delirium cohort: {:.1%}\\n Overall: {:.1%}\\n'.format(\n",
    "        white_ed_count / len(deaths_ed),\n",
    "        white_count / len(deaths)\n",
    "    ))\n",
    "\n",
    "print('Percent minority:\\n Excited delirium cohort: {:.1%}\\n Overall: {:.1%}\\n'.format(\n",
    "        (black_ed_count + latino_ed_count) / len(deaths_ed),\n",
    "        (black_count + latino_count) / len(deaths)\n",
    "    ))\n"
   ]
  },
  {
   "cell_type": "markdown",
   "metadata": {},
   "source": [
    "## By Agency"
   ]
  },
  {
   "cell_type": "code",
   "execution_count": 7,
   "metadata": {},
   "outputs": [
    {
     "name": "stdout",
     "output_type": "stream",
     "text": [
      "| agency_name                       | Count |\n",
      "| --------------------------------- | ----- |\n",
      "| San Antonio PD                    |    12 |\n",
      "| Dallas PD                         |     9 |\n",
      "| Corpus Christi PD                 |     4 |\n",
      "| Texas Department of Public Safety |     2 |\n",
      "| Waco PD                           |     2 |\n",
      "| Hidalgo County Sheriffs Dept.     |     1 |\n",
      "| Van Zandt Sheriff's Dept.         |     1 |\n",
      "| Medina County SO                  |     1 |\n",
      "| Gregg County SO                   |     1 |\n",
      "| Dimmit County SO                  |     1 |\n",
      "| Dallas County SO                  |     1 |\n",
      "| Cameron County SO                 |     1 |\n",
      "| Aransas County SO                 |     1 |\n",
      "| Weatherford PD                    |     1 |\n",
      "| Victoria PD                       |     1 |\n",
      "| Temple PD                         |     1 |\n",
      "| Rockport PD                       |     1 |\n",
      "| Rio Grande City PD                |     1 |\n",
      "| Lancaster PD                      |     1 |\n",
      "| La Marque PD                      |     1 |\n",
      "| ...                               |   ... |\n"
     ]
    }
   ],
   "source": [
    "# deaths_ed.pivot('agency').print_table()\n",
    "agencies = agate.Table.from_csv('../data_raw/agency_table.csv')\n",
    "deaths_ed_agency = deaths_ed.join(agencies, 'agency', 'id').rename(column_names = {'name': 'agency_name'})\n",
    "deaths_ed_agency.pivot('agency_name').order_by('Count', reverse=True).print_table(max_column_width=None)"
   ]
  },
  {
   "cell_type": "markdown",
   "metadata": {},
   "source": [
    "## Excited delirium and tasers"
   ]
  },
  {
   "cell_type": "code",
   "execution_count": 8,
   "metadata": {},
   "outputs": [
    {
     "name": "stdout",
     "output_type": "stream",
     "text": [
      "| tazed | Count |\n",
      "| ----- | ----- |\n",
      "| False |    36 |\n",
      "|  True |    14 |\n"
     ]
    }
   ],
   "source": [
    "# of the ed cases which have tazed = yes\n",
    "deaths_ed.pivot('tazed').print_table()"
   ]
  },
  {
   "cell_type": "markdown",
   "metadata": {
    "collapsed": true
   },
   "source": [
    "## Other delirium causes\n",
    "\n",
    "These cases have the term \"psychotic delirium\" in their cause of dath."
   ]
  },
  {
   "cell_type": "code",
   "execution_count": 9,
   "metadata": {},
   "outputs": [
    {
     "name": "stdout",
     "output_type": "stream",
     "text": [
      "Number of cases: 2\n",
      "\n",
      "| first_name | last_name |\n",
      "| ---------- | --------- |\n",
      "| Joel       | Casey     |\n",
      "| Daryl      | Kelley    |\n"
     ]
    }
   ],
   "source": [
    "#.select(['first_name','last_name'])\n",
    "\n",
    "causes_list_delirium = deaths.where(lambda row: re.search(\n",
    "        '(?i)psychotic delirium',\n",
    "        str(row['cause_of_death'])\n",
    "    ))\n",
    "\n",
    "print('Number of cases: {}\\n'.format(\n",
    "    len(causes_list_delirium)))\n",
    "\n",
    "causes_list_delirium.select(['first_name','last_name']).print_table(max_column_width=None, max_rows=None)"
   ]
  },
  {
   "cell_type": "code",
   "execution_count": null,
   "metadata": {},
   "outputs": [],
   "source": []
  }
 ],
 "metadata": {
  "kernelspec": {
   "display_name": "Python 3",
   "language": "python",
   "name": "python3"
  },
  "language_info": {
   "codemirror_mode": {
    "name": "ipython",
    "version": 3
   },
   "file_extension": ".py",
   "mimetype": "text/x-python",
   "name": "python",
   "nbconvert_exporter": "python",
   "pygments_lexer": "ipython3",
   "version": "3.5.4"
  }
 },
 "nbformat": 4,
 "nbformat_minor": 1
}
