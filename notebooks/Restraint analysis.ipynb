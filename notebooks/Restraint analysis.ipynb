{
 "cells": [
  {
   "cell_type": "markdown",
   "metadata": {},
   "source": [
    "# Restraint as cause of death\n",
    "\n",
    "This looks at cases where retraint was an official cause of death. This relates to the story [Held down and breathless: When police restraint turns fatal](http://www.mystatesman.com/news/crime--law/held-down-and-breathless-when-police-restraint-turns-fatal/RZwAkn7h0JpDRIWxHEyBtJ/).\n",
    "\n",
    "The ID for [Retraint](http://data.statesman.com/admin/custody_deaths/cause/2/change/) in the Causes table is 2."
   ]
  },
  {
   "cell_type": "code",
   "execution_count": 1,
   "metadata": {},
   "outputs": [],
   "source": [
    "import agate"
   ]
  },
  {
   "cell_type": "code",
   "execution_count": 2,
   "metadata": {},
   "outputs": [
    {
     "name": "stdout",
     "output_type": "stream",
     "text": [
      "| column               | data_type |\n",
      "| -------------------- | --------- |\n",
      "| id                   | Number    |\n",
      "| ag_report_url        | Text      |\n",
      "| first_name           | Text      |\n",
      "| middle_name          | Text      |\n",
      "| last_name            | Text      |\n",
      "| suffix               | Text      |\n",
      "| slug                 | Text      |\n",
      "| race                 | Text      |\n",
      "| gender               | Text      |\n",
      "| date_of_birth        | Date      |\n",
      "| date_of_death        | Date      |\n",
      "| age                  | Number    |\n",
      "| agency               | Number    |\n",
      "| restrained           | Boolean   |\n",
      "| tazed                | Boolean   |\n",
      "| times_tazed          | Number    |\n",
      "| pepper_sprayed       | Boolean   |\n",
      "| official_discipline  | Text      |\n",
      "| grand_jury_result    | Text      |\n",
      "| mental_health_issues | Boolean   |\n",
      "| manner_of_death      | Text      |\n",
      "| drug_intoxication    | Boolean   |\n",
      "| cause_of_death       | Text      |\n",
      "| tracked_cause        | Text      |\n",
      "| offense              | Text      |\n",
      "| investigation        | Text      |\n",
      "| notes                | Text      |\n",
      "| ag_summary           | Text      |\n",
      "| reporter_assigned    | Text      |\n",
      "| record_status        | Text      |\n",
      "| case_study           | Text      |\n",
      "| story_summary        | Text      |\n",
      "| photo                | Text      |\n",
      "| cropping             | Number    |\n",
      "| race_name            | Text      |\n",
      "| manner_name          | Text      |\n",
      "| grand_jury_name      | Text      |\n",
      "| discipline_name      | Text      |\n",
      "\n"
     ]
    }
   ],
   "source": [
    "# sets data types on fields agate got wrong\n",
    "specified_data_types = {\n",
    "    'tracked_cause': agate.Text(),\n",
    "    'offense': agate.Text(),\n",
    "    'case_study': agate.Text(),\n",
    "    'official_discipline': agate.Text()\n",
    "}\n",
    "\n",
    "# this pulls the deaths file that is exported in the File processing notebook\n",
    "deaths = agate.Table.from_csv('../exports/deaths_latest.csv', column_types=specified_data_types)\n",
    "\n",
    "print(deaths)"
   ]
  },
  {
   "cell_type": "code",
   "execution_count": 3,
   "metadata": {},
   "outputs": [
    {
     "name": "stdout",
     "output_type": "stream",
     "text": [
      "\n",
      "Number of cases with restraint as cause:\n",
      "52\n",
      "\n",
      "Here is a list:\n",
      "\n",
      "| first_name  | middle_name | last_name        | date_of_death | tracked_cause |\n",
      "| ----------- | ----------- | ---------------- | ------------- | ------------- |\n",
      "| Curtis      | Lee         | Lewis            |    2005-01-10 | 1,2           |\n",
      "| Joel        | Don         | Casey            |    2005-02-18 | 2             |\n",
      "| Edgar       | Alejandro   | Vera             |    2005-08-19 | 2             |\n",
      "| Anthony     | George      | Brown            |    2006-05-07 | 2             |\n",
      "| Curtis      | Michael     | Harwell          |    2006-09-14 | 2             |\n",
      "| Herman      |             | Barnes           |    2006-10-06 | 2             |\n",
      "| Rosendo     |             | Gaytan           |    2006-11-05 | 2             |\n",
      "| Paul        |             | Rodriguez        |    2007-03-26 | 1,2           |\n",
      "| Marcus      | Nygel       | Elliott          |    2007-07-01 | 2             |\n",
      "| Donald      | Wayne       | Jacobs           |    2007-09-17 | 1,2           |\n",
      "| Corey       | Dean        | Bailey           |    2008-06-27 | 1,2           |\n",
      "| Richard     |             | Smith            |    2008-07-24 | 1,2           |\n",
      "| Thomas      | Joseph      | Kirksey          |    2008-11-10 | 2             |\n",
      "| Rafael      | Edgar       | Solis            |    2009-02-14 | 2             |\n",
      "| Robert      | Lee         | Welch            |    2009-02-28 | 2             |\n",
      "| Michael     |             | McKnight         |    2009-08-01 | 1,2           |\n",
      "| Gregory     | Maurice     | Kitchen          |    2010-01-22 | 2             |\n",
      "| Terrell     | Leray       | Houston          |    2010-06-09 | 2             |\n",
      "| Jesus       | Tadeo       | Magana           |    2010-12-02 | 2             |\n",
      "| Micah       | Theron      | Shepard          |    2011-03-14 | 2             |\n",
      "| Steven      |             | Hayes            |    2011-07-06 | 2,36          |\n",
      "| Jose        | Ignacio     | Palomo           |    2011-07-18 | 2             |\n",
      "| Jonathan    | Lee         | Johnson          |    2011-08-15 | 2             |\n",
      "| Christopher | Marshall    | Monroe           |    2011-10-18 | 1,2           |\n",
      "| Willie      | Ray         | Banks            |    2011-12-29 | 2             |\n",
      "| Troy        | Marcus      | Stewart          |    2012-02-12 | 2             |\n",
      "| Raymond     | Luther      | Allen            |    2012-02-29 | 1,2           |\n",
      "| Jose        |             | Sauceda          |    2012-03-25 | 2             |\n",
      "| Ramiro      | Rodriguez   | Garcia           |    2012-08-01 | 2,36          |\n",
      "| Marshall    |             | Moreno           |    2012-10-09 | 2             |\n",
      "| Jesus       |             | Salas            |    2012-10-26 | 2             |\n",
      "| David       |             | Garza            |    2012-12-14 | 1,2           |\n",
      "| Bobby       | Joe         | Madewell         |    2013-03-21 | 1,2           |\n",
      "| Jermaine    | Nicholas    | Darden           |    2013-05-16 | 2             |\n",
      "| John        | Steven      | Thomas           |    2013-05-24 | 2             |\n",
      "| Tadarion    | Deshon      | Lawson           |    2013-06-24 | 2             |\n",
      "| Hector      | Hugo        | Elizondo         |    2013-10-29 | 2             |\n",
      "| Kenneth     | Christopher | Lucas            |    2014-02-17 | 2             |\n",
      "| Mario       |             | Evans            |    2014-03-01 | 1,2           |\n",
      "| Thomas      | E.          | Klessig          |    2014-09-23 | 2             |\n",
      "| Robert      | Brandon     | Edwards          |    2015-01-30 | 2             |\n",
      "| Wilber      |             | Castillo-Gongora |    2015-02-04 | 2             |\n",
      "| Tony        | Chance      | Ross             |    2015-03-06 | 2             |\n",
      "| Jonathan    | Ryan        | Paul             |    2015-03-12 | 2             |\n",
      "| Coy         | Wayne       | Walker           |    2015-05-24 | 2             |\n",
      "| Billy       | Ray         | Davis            |    2015-07-18 | 2             |\n",
      "| Joseph      | Sheldon     | Hutcheson        |    2015-08-01 | 2             |\n",
      "| John        | Winston     | Ozuna            |    2015-08-05 | 2             |\n",
      "| Wesley      | Wayne       | Manning          |    2015-09-29 | 1,2           |\n",
      "| Anthony     |             | Timpa            |    2016-08-10 | 2             |\n",
      "| Willie      | Lee         | Washington       |    2016-08-20 | 2             |\n",
      "| Jesse       | Andrew      | DeBusk           |    2016-12-24 | 2             |\n"
     ]
    }
   ],
   "source": [
    "# functon to check if tracked_cause includes 2 - Restraint\n",
    "value_checked = ['2']\n",
    "\n",
    "# This is the evaluation function, used to compare offenses in a row\n",
    "# to the list of minor offenses\n",
    "def list_check(row):\n",
    "    if row is None:\n",
    "        return False\n",
    "    myList = row.split(',')\n",
    "    for item in myList:\n",
    "        if item in value_checked:\n",
    "            return True\n",
    "\n",
    "# this filters our death_offenses table based on the \n",
    "# value and field we are searching\n",
    "deaths_restraint = deaths.where(lambda row: list_check(row['tracked_cause']))\n",
    "\n",
    "print('\\nNumber of cases with restraint as cause:\\n{}\\n\\nHere is a list:\\n'.format(len(deaths_restraint)))\n",
    "\n",
    "# prints the deaths with just minor offenses\n",
    "deaths_restraint.select(['first_name',\n",
    "                  'middle_name',\n",
    "                  'last_name',\n",
    "                  'date_of_death',\n",
    "                  'tracked_cause']).order_by('date_of_death').print_table(max_rows=None)\n"
   ]
  },
  {
   "cell_type": "markdown",
   "metadata": {},
   "source": [
    "## Restraint deaths by race"
   ]
  },
  {
   "cell_type": "code",
   "execution_count": 4,
   "metadata": {},
   "outputs": [
    {
     "name": "stdout",
     "output_type": "stream",
     "text": [
      "Out of all deaths (289), 52 have restraint as a cause of death.\n",
      "\n",
      "Breaking these 52 by race looks like this:\n",
      "\n",
      "| race_name       | Count |\n",
      "| --------------- | ----- |\n",
      "| White           |    17 |\n",
      "| Black           |    21 |\n",
      "| Hispanic/Latino |    14 |\n",
      "\n",
      "Compared to the race of all 289 cases:\n",
      "\n",
      "| race_name       | Count |\n",
      "| --------------- | ----- |\n",
      "| White           |    93 |\n",
      "| Black           |   101 |\n",
      "| Hispanic/Latino |    91 |\n",
      "| Asian           |     4 |\n"
     ]
    }
   ],
   "source": [
    "# pivot restraint deaths by race\n",
    "deaths_restraint_race = deaths_restraint.pivot('race_name')\n",
    "\n",
    "deaths_restraint_race.to_csv('../exports/deaths_restraint_race.csv')\n",
    "\n",
    "print('Out of all deaths ({}), {} have restraint as a cause of death.\\n'.format(\n",
    "        len(deaths),\n",
    "        len(deaths_restraint)\n",
    "    ))\n",
    "\n",
    "print('Breaking these {} by race looks like this:\\n'.format(\n",
    "    len(deaths_restraint)\n",
    "    ))\n",
    "\n",
    "deaths_restraint_race.print_table()\n",
    "\n",
    "\n",
    "print('\\nCompared to the race of all {} cases:\\n'.format(\n",
    "        len(deaths)\n",
    "    ))\n",
    "\n",
    "deaths.pivot('race_name').print_table()"
   ]
  },
  {
   "cell_type": "markdown",
   "metadata": {
    "collapsed": true
   },
   "source": [
    "## Restraint deaths by year\n"
   ]
  },
  {
   "cell_type": "code",
   "execution_count": 5,
   "metadata": {},
   "outputs": [
    {
     "name": "stdout",
     "output_type": "stream",
     "text": [
      "Looking at the 52 restraint deaths by year:\n",
      "\n",
      "| Year | Count |\n",
      "| ---- | ----- |\n",
      "| 2005 |     3 |\n",
      "| 2006 |     4 |\n",
      "| 2007 |     3 |\n",
      "| 2008 |     3 |\n",
      "| 2009 |     3 |\n",
      "| 2010 |     3 |\n",
      "| 2011 |     6 |\n",
      "| 2012 |     7 |\n",
      "| 2013 |     5 |\n",
      "| 2014 |     3 |\n",
      "| 2015 |     9 |\n",
      "| 2016 |     3 |\n",
      "\n",
      "Then those 52 as a simple bar chart:\n",
      "\n",
      "Year Count\n",
      "2005     3 ▓░░░░░░░░░░░░░░░░                                \n",
      "2006     4 ▓░░░░░░░░░░░░░░░░░░░░░                           \n",
      "2007     3 ▓░░░░░░░░░░░░░░░░                                \n",
      "2008     3 ▓░░░░░░░░░░░░░░░░                                \n",
      "2009     3 ▓░░░░░░░░░░░░░░░░                                \n",
      "2010     3 ▓░░░░░░░░░░░░░░░░                                \n",
      "2011     6 ▓░░░░░░░░░░░░░░░░░░░░░░░░░░░░░░░░                \n",
      "2012     7 ▓░░░░░░░░░░░░░░░░░░░░░░░░░░░░░░░░░░░░░           \n",
      "2013     5 ▓░░░░░░░░░░░░░░░░░░░░░░░░░░░                     \n",
      "2014     3 ▓░░░░░░░░░░░░░░░░                                \n",
      "2015     9 ▓░░░░░░░░░░░░░░░░░░░░░░░░░░░░░░░░░░░░░░░░░░░░░░░░\n",
      "2016     3 ▓░░░░░░░░░░░░░░░░                                \n",
      "           +-----------+-----------+-----------+-----------+\n",
      "           0.00      2.25        4.50        6.75       9.00\n"
     ]
    }
   ],
   "source": [
    "# pivot restraint deaths by year\n",
    "# add a year column based on year of date_of_death\n",
    "deaths_restraint_yearadd = deaths_restraint.compute([\n",
    "    ('Year', agate.Formula(agate.Text(), lambda r: r['date_of_death'].year))\n",
    "])\n",
    "\n",
    "# pivot based on year\n",
    "deaths_restraint_year = deaths_restraint_yearadd.pivot('Year').order_by('Year')\n",
    "\n",
    "# export the data\n",
    "deaths_restraint_year.to_csv('../exports/deaths_restraint_year.csv')\n",
    "\n",
    "print('Looking at the {} restraint deaths by year:\\n'.format(\n",
    "        len(deaths_restraint)\n",
    "    ))\n",
    "\n",
    "deaths_restraint_year.print_table()\n",
    "\n",
    "print('\\nThen those {} as a simple bar chart:\\n'.format(\n",
    "        len(deaths_restraint)\n",
    "    ))\n",
    "\n",
    "# # print the pivot as bars\n",
    "deaths_restraint_year.print_bars('Year', 'Count', width=60)"
   ]
  },
  {
   "cell_type": "markdown",
   "metadata": {},
   "source": [
    "## Manner of death for those under restraint"
   ]
  },
  {
   "cell_type": "code",
   "execution_count": 6,
   "metadata": {},
   "outputs": [
    {
     "name": "stdout",
     "output_type": "stream",
     "text": [
      "| manner_name  | Count |\n",
      "| ------------ | ----- |\n",
      "| Undetermined |     8 |\n",
      "| Homicide     |    42 |\n",
      "| Accident     |     1 |\n",
      "| Natural      |     1 |\n"
     ]
    }
   ],
   "source": [
    "deaths_restraint.pivot('manner_name').print_table()"
   ]
  },
  {
   "cell_type": "code",
   "execution_count": null,
   "metadata": {},
   "outputs": [],
   "source": []
  }
 ],
 "metadata": {
  "kernelspec": {
   "display_name": "Python 3",
   "language": "python",
   "name": "python3"
  },
  "language_info": {
   "codemirror_mode": {
    "name": "ipython",
    "version": 3
   },
   "file_extension": ".py",
   "mimetype": "text/x-python",
   "name": "python",
   "nbconvert_exporter": "python",
   "pygments_lexer": "ipython3",
   "version": "3.5.4"
  }
 },
 "nbformat": 4,
 "nbformat_minor": 1
}
